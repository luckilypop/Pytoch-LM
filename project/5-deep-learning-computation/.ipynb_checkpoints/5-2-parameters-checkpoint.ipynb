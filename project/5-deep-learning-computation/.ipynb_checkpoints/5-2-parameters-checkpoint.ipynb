{
 "cells": [
  {
   "cell_type": "markdown",
   "id": "3f58e500",
   "metadata": {},
   "source": [
    "# 5.2 参数管理"
   ]
  },
  {
   "cell_type": "markdown",
   "id": "ae030e92",
   "metadata": {},
   "source": [
    "## 5.2.1 参数访问"
   ]
  },
  {
   "cell_type": "code",
   "execution_count": 3,
   "id": "898da164",
   "metadata": {},
   "outputs": [
    {
     "data": {
      "text/plain": [
       "(tensor([[0.9288, 0.8350, 0.4935, 0.4622],\n",
       "         [0.0947, 0.5366, 0.9383, 0.2545]]),\n",
       " tensor([[-0.0285],\n",
       "         [ 0.0547]], grad_fn=<AddmmBackward0>))"
      ]
     },
     "execution_count": 3,
     "metadata": {},
     "output_type": "execute_result"
    }
   ],
   "source": [
    "import torch\n",
    "from torch import nn\n",
    "\n",
    "net = nn.Sequential(nn.Linear(4, 8), nn.ReLU(), nn.Linear(8, 1))\n",
    "X = torch.rand(size=(2, 4))\n",
    "X,net(X)"
   ]
  },
  {
   "cell_type": "markdown",
   "id": "7c539d91",
   "metadata": {},
   "source": [
    "当通过Sequential类定义模型时，我们可以通过索引来访问模型的任意层。\n",
    "\n",
    "这就像模型是一个列表一样。每层的参数都在其属性中。\n",
    "\n",
    "如下所示，我们可以检查第二个全连接层的参数。\n",
    "首先，这个全连接层包含两个参数，分别是该层的权重和偏置,两者都存储为单精度浮点数（float32）。\n",
    "\n",
    "注意，参数名称允许我们唯一地标识每个参数，即使在包含数百个层的网络中也是如此。"
   ]
  },
  {
   "cell_type": "code",
   "execution_count": 4,
   "id": "f06f903d",
   "metadata": {},
   "outputs": [
    {
     "name": "stdout",
     "output_type": "stream",
     "text": [
      "OrderedDict([('weight', tensor([[-0.0945, -0.2433, -0.0757,  0.1561,  0.2365,  0.2934, -0.1218,  0.0669]])), ('bias', tensor([0.0577]))])\n"
     ]
    }
   ],
   "source": [
    "print(net[2].state_dict())"
   ]
  },
  {
   "cell_type": "markdown",
   "id": "0ec14a8f",
   "metadata": {},
   "source": [
    "### 目标参数\n",
    "注意，每个参数都表示为参数（parameter）类的一个实例。\n",
    "\n",
    "要对参数执行任何操作，首先我们需要访问底层的数值。\n",
    "\n",
    "参数是复合的对象，包含值、梯度和额外信息"
   ]
  },
  {
   "cell_type": "code",
   "execution_count": 6,
   "id": "516e403b",
   "metadata": {},
   "outputs": [
    {
     "name": "stdout",
     "output_type": "stream",
     "text": [
      "<class 'torch.nn.parameter.Parameter'>\n",
      "Parameter containing:\n",
      "tensor([0.0577], requires_grad=True)\n",
      "tensor([0.0577])\n"
     ]
    }
   ],
   "source": [
    "print(type(net[2].bias)) # 访问参数的类型\n",
    "print(net[2].bias) # 访问参数\n",
    "print(net[2].bias.data) # 访问参数的值\n"
   ]
  },
  {
   "cell_type": "code",
   "execution_count": 7,
   "id": "6c2b009b",
   "metadata": {},
   "outputs": [
    {
     "data": {
      "text/plain": [
       "True"
      ]
     },
     "execution_count": 7,
     "metadata": {},
     "output_type": "execute_result"
    }
   ],
   "source": [
    "# 我们还可以访问每个参数的梯度。\n",
    "# 由于我们还没有调用这个网络的反向传播，所以参数的梯度处于初始状态。\n",
    "net[2].weight.grad == None\n"
   ]
  },
  {
   "cell_type": "markdown",
   "id": "7faa61c3",
   "metadata": {},
   "source": [
    "### 一次性访问所有的参数"
   ]
  },
  {
   "cell_type": "code",
   "execution_count": 8,
   "id": "6a900c37",
   "metadata": {},
   "outputs": [
    {
     "name": "stdout",
     "output_type": "stream",
     "text": [
      "('weight', torch.Size([8, 4])) ('bias', torch.Size([8]))\n",
      "('0.weight', torch.Size([8, 4])) ('0.bias', torch.Size([8])) ('2.weight', torch.Size([1, 8])) ('2.bias', torch.Size([1]))\n"
     ]
    }
   ],
   "source": [
    "print(*[(name, param.shape) for name, param in net[0].named_parameters()])\n",
    "print(*[(name, param.shape) for name, param in net.named_parameters()])"
   ]
  },
  {
   "cell_type": "code",
   "execution_count": 9,
   "id": "515e970a",
   "metadata": {},
   "outputs": [
    {
     "data": {
      "text/plain": [
       "tensor([0.0577])"
      ]
     },
     "execution_count": 9,
     "metadata": {},
     "output_type": "execute_result"
    }
   ],
   "source": [
    "# 另外一种访问网格参数的方式\n",
    "net.state_dict()['2.bias'].data"
   ]
  },
  {
   "cell_type": "markdown",
   "id": "c3857d67",
   "metadata": {},
   "source": [
    "### 从嵌套块收集参数"
   ]
  },
  {
   "cell_type": "code",
   "execution_count": 10,
   "id": "e6947def",
   "metadata": {},
   "outputs": [],
   "source": [
    "def block1():\n",
    "    return nn.Sequential(nn.Linear(4, 8), nn.ReLU(),\n",
    "                         nn.Linear(8, 4), nn.ReLU())\n",
    "\n",
    "def block2():\n",
    "    net = nn.Sequential()\n",
    "    for i in range(4):\n",
    "        # 在这里嵌套\n",
    "        net.add_module(f'block {i}', block1())\n",
    "    return net"
   ]
  },
  {
   "cell_type": "code",
   "execution_count": 11,
   "id": "03114bc7",
   "metadata": {},
   "outputs": [
    {
     "data": {
      "text/plain": [
       "tensor([[-0.3274],\n",
       "        [-0.3275]], grad_fn=<AddmmBackward0>)"
      ]
     },
     "execution_count": 11,
     "metadata": {},
     "output_type": "execute_result"
    }
   ],
   "source": [
    "rgnet = nn.Sequential(block2(), nn.Linear(4, 1))\n",
    "rgnet(X)"
   ]
  },
  {
   "cell_type": "code",
   "execution_count": null,
   "id": "0d90c902",
   "metadata": {},
   "outputs": [],
   "source": []
  }
 ],
 "metadata": {
  "hide_input": false,
  "kernelspec": {
   "display_name": "Python [conda env:d2l] *",
   "language": "python",
   "name": "conda-env-d2l-py"
  },
  "language_info": {
   "codemirror_mode": {
    "name": "ipython",
    "version": 3
   },
   "file_extension": ".py",
   "mimetype": "text/x-python",
   "name": "python",
   "nbconvert_exporter": "python",
   "pygments_lexer": "ipython3",
   "version": "3.8.12"
  },
  "latex_envs": {
   "LaTeX_envs_menu_present": true,
   "autoclose": false,
   "autocomplete": true,
   "bibliofile": "biblio.bib",
   "cite_by": "apalike",
   "current_citInitial": 1,
   "eqLabelWithNumbers": true,
   "eqNumInitial": 1,
   "hotkeys": {
    "equation": "Ctrl-E",
    "itemize": "Ctrl-I"
   },
   "labels_anchors": false,
   "latex_user_defs": false,
   "report_style_numbering": false,
   "user_envs_cfg": false
  },
  "toc": {
   "base_numbering": 1,
   "nav_menu": {},
   "number_sections": false,
   "sideBar": true,
   "skip_h1_title": false,
   "title_cell": "Table of Contents",
   "title_sidebar": "Contents",
   "toc_cell": false,
   "toc_position": {},
   "toc_section_display": true,
   "toc_window_display": false
  }
 },
 "nbformat": 4,
 "nbformat_minor": 5
}

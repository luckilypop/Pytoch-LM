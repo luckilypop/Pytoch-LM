{
 "cells": [
  {
   "cell_type": "markdown",
   "id": "e9041891",
   "metadata": {},
   "source": [
    "# 2.1 数据操作"
   ]
  },
  {
   "cell_type": "markdown",
   "id": "41799806",
   "metadata": {},
   "source": [
    "## 2.1.1 入门"
   ]
  },
  {
   "cell_type": "code",
   "execution_count": 1,
   "id": "0f4b5f56",
   "metadata": {},
   "outputs": [],
   "source": [
    "import torch"
   ]
  },
  {
   "cell_type": "markdown",
   "id": "14588e38",
   "metadata": {},
   "source": [
    "张量表示由一个数值组成的*数组*，这个数组可能有多个维度。\n",
    "\n",
    "具有一个轴的张量对应数学上的向量（vector）。\n",
    "\n",
    "具有两个轴的张量对应数学上的矩阵（matrix）。\n",
    "\n",
    "具有两个轴以上的张量没有特殊的数学名称。"
   ]
  },
  {
   "cell_type": "markdown",
   "id": "6960852c",
   "metadata": {},
   "source": [
    "### arange()创建一个行向量x。\n",
    "这个行向量包含从0开始的前12个整数，它们被默认创建为浮点数。\n",
    "张量中的每个值都称为张量的元素（element）"
   ]
  },
  {
   "cell_type": "code",
   "execution_count": 2,
   "id": "119bcae0",
   "metadata": {},
   "outputs": [
    {
     "data": {
      "text/plain": [
       "tensor([ 0,  1,  2,  3,  4,  5,  6,  7,  8,  9, 10, 11])"
      ]
     },
     "execution_count": 2,
     "metadata": {},
     "output_type": "execute_result"
    }
   ],
   "source": [
    "x = torch.arange(12)\n",
    "x"
   ]
  },
  {
   "cell_type": "markdown",
   "id": "e20d3d60",
   "metadata": {},
   "source": [
    "### shape属性来访问张量的形状 （沿每个轴的长度）"
   ]
  },
  {
   "cell_type": "code",
   "execution_count": 3,
   "id": "65f37b36",
   "metadata": {},
   "outputs": [
    {
     "data": {
      "text/plain": [
       "torch.Size([12])"
      ]
     },
     "execution_count": 3,
     "metadata": {},
     "output_type": "execute_result"
    }
   ],
   "source": [
    "x.shape"
   ]
  },
  {
   "cell_type": "markdown",
   "id": "c9a7e845",
   "metadata": {},
   "source": [
    "### numel()检查其size，一直都是个标量"
   ]
  },
  {
   "cell_type": "code",
   "execution_count": 4,
   "id": "8953e14e",
   "metadata": {},
   "outputs": [
    {
     "data": {
      "text/plain": [
       "12"
      ]
     },
     "execution_count": 4,
     "metadata": {},
     "output_type": "execute_result"
    }
   ],
   "source": [
    "x.numel()"
   ]
  },
  {
   "cell_type": "markdown",
   "id": "0417cb0d",
   "metadata": {},
   "source": [
    "### reshape()改变张量的形状，从一维到多维，不改变元素的值"
   ]
  },
  {
   "cell_type": "code",
   "execution_count": 5,
   "id": "9e5bb275",
   "metadata": {},
   "outputs": [
    {
     "data": {
      "text/plain": [
       "tensor([[ 0,  1,  2,  3],\n",
       "        [ 4,  5,  6,  7],\n",
       "        [ 8,  9, 10, 11]])"
      ]
     },
     "execution_count": 5,
     "metadata": {},
     "output_type": "execute_result"
    }
   ],
   "source": [
    "X = x.reshape(3,4)\n",
    "X"
   ]
  },
  {
   "cell_type": "markdown",
   "id": "0a12f9ea",
   "metadata": {},
   "source": [
    "### zeros()创建全为0的张量"
   ]
  },
  {
   "cell_type": "code",
   "execution_count": 6,
   "id": "89f035cc",
   "metadata": {},
   "outputs": [
    {
     "data": {
      "text/plain": [
       "tensor([[[0., 0., 0., 0.],\n",
       "         [0., 0., 0., 0.],\n",
       "         [0., 0., 0., 0.]],\n",
       "\n",
       "        [[0., 0., 0., 0.],\n",
       "         [0., 0., 0., 0.],\n",
       "         [0., 0., 0., 0.]]])"
      ]
     },
     "execution_count": 6,
     "metadata": {},
     "output_type": "execute_result"
    }
   ],
   "source": [
    "tmp = torch.zeros((2,3,4)) #torch.zeros(2，3，4) \n",
    "tmp"
   ]
  },
  {
   "cell_type": "markdown",
   "id": "1e587f17",
   "metadata": {},
   "source": [
    "### ones()创建全为1的张量"
   ]
  },
  {
   "cell_type": "code",
   "execution_count": 7,
   "id": "03233078",
   "metadata": {},
   "outputs": [
    {
     "data": {
      "text/plain": [
       "tensor([[[1., 1., 1., 1.],\n",
       "         [1., 1., 1., 1.],\n",
       "         [1., 1., 1., 1.]],\n",
       "\n",
       "        [[1., 1., 1., 1.],\n",
       "         [1., 1., 1., 1.],\n",
       "         [1., 1., 1., 1.]]])"
      ]
     },
     "execution_count": 7,
     "metadata": {},
     "output_type": "execute_result"
    }
   ],
   "source": [
    "tmp = torch.ones(2,3,4)\n",
    "tmp"
   ]
  },
  {
   "cell_type": "markdown",
   "id": "42d4af59",
   "metadata": {},
   "source": [
    "### randn()随机初始化参数，正太分布中的随机取样,[0,1]"
   ]
  },
  {
   "cell_type": "code",
   "execution_count": 8,
   "id": "22c1333d",
   "metadata": {},
   "outputs": [
    {
     "data": {
      "text/plain": [
       "tensor([[-0.1182, -0.4917, -0.1352, -0.7269],\n",
       "        [-3.1242,  0.3857,  0.3846, -0.0073],\n",
       "        [ 0.9243,  0.0215,  0.4484,  1.0152]])"
      ]
     },
     "execution_count": 8,
     "metadata": {},
     "output_type": "execute_result"
    }
   ],
   "source": [
    "tmp = torch.randn(3,4)\n",
    "tmp"
   ]
  },
  {
   "cell_type": "markdown",
   "id": "bfa35ee6",
   "metadata": {},
   "source": [
    "### tensor()自定义给张量赋值\n",
    "几个维度就有几个[]"
   ]
  },
  {
   "cell_type": "code",
   "execution_count": 3,
   "id": "5073ad3f",
   "metadata": {},
   "outputs": [
    {
     "data": {
      "text/plain": [
       "(tensor([[[1, 2, 3],\n",
       "          [3, 3, 4]]]),\n",
       " torch.Size([1, 2, 3]))"
      ]
     },
     "execution_count": 3,
     "metadata": {},
     "output_type": "execute_result"
    }
   ],
   "source": [
    "tmp = torch.tensor([[[1,2,3],[3,3,4]]])#注意tensor只有一个位置[]\n",
    "tmp,tmp.shape"
   ]
  },
  {
   "cell_type": "markdown",
   "id": "150b150c",
   "metadata": {},
   "source": [
    "## 2.1.2 运算"
   ]
  },
  {
   "cell_type": "markdown",
   "id": "51a7f49a",
   "metadata": {},
   "source": [
    "### 标准算术运算符（+、-、*、/和**）\n",
    "对于任意具有相同形状的张量，常见的标准算术运算符（+、-、*、/和**）都可以被升级为按元素运算"
   ]
  },
  {
   "cell_type": "code",
   "execution_count": 10,
   "id": "fd5b5cee",
   "metadata": {},
   "outputs": [
    {
     "data": {
      "text/plain": [
       "(tensor([3, 4, 5, 6]),\n",
       " tensor([-1,  0,  1,  2]),\n",
       " tensor([2, 4, 6, 8]),\n",
       " tensor([0.5000, 1.0000, 1.5000, 2.0000]),\n",
       " tensor([ 1,  4,  9, 16]),\n",
       " tensor([ 2.7183,  7.3891, 20.0855, 54.5981]))"
      ]
     },
     "execution_count": 10,
     "metadata": {},
     "output_type": "execute_result"
    }
   ],
   "source": [
    "x = torch.tensor([1, 2, 3, 4])\n",
    "y = torch.tensor([2, 2, 2, 2])\n",
    "tmp = torch.exp(x)#求指数运算符\n",
    "x + y, x - y, x * y, x / y, x ** y, tmp# **运算符是求幂运算"
   ]
  },
  {
   "cell_type": "markdown",
   "id": "4e0007a7",
   "metadata": {},
   "source": [
    "### cat()多个张量连结（concatenate）\n",
    "第一个输出张量的轴-0长度（\\(6\\)）是两个输入张量轴-0长度的总和（\\(3 + 3\\)）；\n",
    "\n",
    "第二个输出张量的轴-1长度（\\(8\\)）是两个输入张量轴-1长度的总和（\\(4 + 4\\)）。"
   ]
  },
  {
   "cell_type": "code",
   "execution_count": 9,
   "id": "543000d9",
   "metadata": {},
   "outputs": [
    {
     "data": {
      "text/plain": [
       "(torch.Size([3, 4]),\n",
       " torch.Size([3, 4]),\n",
       " tensor([[ 0.,  1.,  2.,  3.],\n",
       "         [ 4.,  5.,  6.,  7.],\n",
       "         [ 8.,  9., 10., 11.],\n",
       "         [ 2.,  1.,  4.,  3.],\n",
       "         [ 1.,  2.,  3.,  4.],\n",
       "         [ 4.,  3.,  2.,  1.]]),\n",
       " tensor([[ 0.,  1.,  2.,  3.,  2.,  1.,  4.,  3.],\n",
       "         [ 4.,  5.,  6.,  7.,  1.,  2.,  3.,  4.],\n",
       "         [ 8.,  9., 10., 11.,  4.,  3.,  2.,  1.]]))"
      ]
     },
     "execution_count": 9,
     "metadata": {},
     "output_type": "execute_result"
    }
   ],
   "source": [
    "X = torch.arange(12, dtype=torch.float32).reshape((3,4))\n",
    "Y = torch.tensor([[2.0, 1, 4, 3], [1, 2, 3, 4], [4, 3, 2, 1]])\n",
    "X.shape,Y.shape,torch.cat((X, Y), dim=0), torch.cat((X, Y), dim=1)"
   ]
  },
  {
   "cell_type": "markdown",
   "id": "74666a05",
   "metadata": {},
   "source": [
    "### == 判断张量位置是否相等"
   ]
  },
  {
   "cell_type": "code",
   "execution_count": 12,
   "id": "4b3e0ed0",
   "metadata": {},
   "outputs": [
    {
     "data": {
      "text/plain": [
       "tensor([[False,  True, False,  True],\n",
       "        [False, False, False, False],\n",
       "        [False, False, False, False]])"
      ]
     },
     "execution_count": 12,
     "metadata": {},
     "output_type": "execute_result"
    }
   ],
   "source": [
    "X == Y"
   ]
  },
  {
   "cell_type": "markdown",
   "id": "43cb9cc1",
   "metadata": {},
   "source": [
    "### sum()张量所有元素求和"
   ]
  },
  {
   "cell_type": "code",
   "execution_count": 13,
   "id": "6bd19be3",
   "metadata": {},
   "outputs": [
    {
     "data": {
      "text/plain": [
       "tensor(66.)"
      ]
     },
     "execution_count": 13,
     "metadata": {},
     "output_type": "execute_result"
    }
   ],
   "source": [
    "X.sum()"
   ]
  },
  {
   "cell_type": "markdown",
   "id": "929319e5",
   "metadata": {},
   "source": [
    "## 2.1.3 广播机制\n",
    "形状不同的张量，调用广播机制执行元素操作，工作方式如下：\n",
    "\n",
    "首先，通过适当复制元素来扩展一个或两个数组，以便在转换之后，两个张量具有相同的形状。\n",
    "\n",
    "其次，对生成的数组执行按元素操作。"
   ]
  },
  {
   "cell_type": "code",
   "execution_count": 14,
   "id": "8d208e22",
   "metadata": {},
   "outputs": [
    {
     "data": {
      "text/plain": [
       "(tensor([[0],\n",
       "         [1],\n",
       "         [2]]),\n",
       " tensor([[0, 1]]),\n",
       " tensor([[0, 1],\n",
       "         [1, 2],\n",
       "         [2, 3]]))"
      ]
     },
     "execution_count": 14,
     "metadata": {},
     "output_type": "execute_result"
    }
   ],
   "source": [
    "# 维度都是二维\n",
    "a = torch.arange(3).reshape((3, 1))\n",
    "b = torch.arange(2).reshape((1, 2))\n",
    "a, b,a + b"
   ]
  },
  {
   "cell_type": "markdown",
   "id": "6eff7bc5",
   "metadata": {},
   "source": [
    "## 2.1.4 索引和切片\n",
    "用[-1]选择最后一个元素，可以用[1:3]选择第二个和第三个元素"
   ]
  },
  {
   "cell_type": "code",
   "execution_count": 15,
   "id": "ae3eabde",
   "metadata": {},
   "outputs": [
    {
     "data": {
      "text/plain": [
       "(tensor([ 8.,  9., 10., 11.]),\n",
       " tensor([[ 4.,  5.,  6.,  7.],\n",
       "         [ 8.,  9., 10., 11.]]))"
      ]
     },
     "execution_count": 15,
     "metadata": {},
     "output_type": "execute_result"
    }
   ],
   "source": [
    "X[-1], X[1:3]"
   ]
  },
  {
   "cell_type": "markdown",
   "id": "fe811910",
   "metadata": {},
   "source": [
    "### 索引元素赋值"
   ]
  },
  {
   "cell_type": "code",
   "execution_count": 16,
   "id": "ecf5aeb1",
   "metadata": {},
   "outputs": [
    {
     "data": {
      "text/plain": [
       "tensor([[12., 12., 12., 12.],\n",
       "        [12., 12., 12., 12.],\n",
       "        [ 8.,  9., 10., 11.]])"
      ]
     },
     "execution_count": 16,
     "metadata": {},
     "output_type": "execute_result"
    }
   ],
   "source": [
    "X[0:2, :] = 12\n",
    "X"
   ]
  },
  {
   "cell_type": "markdown",
   "id": "3eaad571",
   "metadata": {},
   "source": [
    "## 2.1.5 节省内存\n",
    "用Python的id()函数演示了这一点，它给我们提供了内存中引用对象的确切地址。\n",
    "\n",
    "运行Y = Y + X后，我们会发现id(Y)指向另一个位置。\n",
    "\n",
    "这是因为Python首先计算Y + X，为结果分配新的内存，然后使Y指向内存中的这个新位置"
   ]
  },
  {
   "cell_type": "code",
   "execution_count": 17,
   "id": "ec9ad8af",
   "metadata": {},
   "outputs": [
    {
     "name": "stdout",
     "output_type": "stream",
     "text": [
      "before_id(Y): 139753755135168\n",
      "after_id(Y): 139753755116304\n"
     ]
    },
    {
     "data": {
      "text/plain": [
       "False"
      ]
     },
     "metadata": {},
     "output_type": "display_data"
    }
   ],
   "source": [
    "print('before_id(Y):', id(Y))\n",
    "before = id(Y)\n",
    "Y = Y + X\n",
    "print('after_id(Y):', id(Y))\n",
    "display(id(Y) == before)"
   ]
  },
  {
   "cell_type": "markdown",
   "id": "200f7225",
   "metadata": {},
   "source": [
    "使用切片表示法将操作的结果分配给先前分配的数组,减少内存开销\n",
    "### zeors_like()分配一个形状一样的全为0的张量"
   ]
  },
  {
   "cell_type": "code",
   "execution_count": 18,
   "id": "1dbf54af",
   "metadata": {},
   "outputs": [
    {
     "name": "stdout",
     "output_type": "stream",
     "text": [
      "before_id(Z): 139753755047872\n",
      "after_id(Z): 139753755047872\n"
     ]
    }
   ],
   "source": [
    "Z = torch.zeros_like(Y)\n",
    "print('before_id(Z):', id(Z))\n",
    "Z[:] = X + Y\n",
    "print('after_id(Z):', id(Z))"
   ]
  },
  {
   "cell_type": "markdown",
   "id": "acac62f2",
   "metadata": {},
   "source": [
    "## 2.1.6 转换为其他Python对象"
   ]
  },
  {
   "cell_type": "markdown",
   "id": "8a4ef87d",
   "metadata": {},
   "source": [
    "### numpy() tensor() 类型切换"
   ]
  },
  {
   "cell_type": "code",
   "execution_count": 19,
   "id": "ac7dee9d",
   "metadata": {},
   "outputs": [
    {
     "data": {
      "text/plain": [
       "(numpy.ndarray, torch.Tensor)"
      ]
     },
     "execution_count": 19,
     "metadata": {},
     "output_type": "execute_result"
    }
   ],
   "source": [
    "A = X.numpy()\n",
    "B = torch.tensor(A)\n",
    "type(A), type(B)\n"
   ]
  },
  {
   "cell_type": "markdown",
   "id": "5da85fd0",
   "metadata": {},
   "source": [
    "### item()函数或者Python内置函数\n",
    "将大小为1的张量转换为Python标量"
   ]
  },
  {
   "cell_type": "code",
   "execution_count": 20,
   "id": "eb4aedc5",
   "metadata": {},
   "outputs": [
    {
     "data": {
      "text/plain": [
       "(tensor([3.5000]), 3.5, 3.5, 3)"
      ]
     },
     "execution_count": 20,
     "metadata": {},
     "output_type": "execute_result"
    }
   ],
   "source": [
    "a = torch.tensor([3.5])\n",
    "a, a.item(), float(a), int(a)"
   ]
  },
  {
   "cell_type": "markdown",
   "id": "204224c1",
   "metadata": {},
   "source": [
    "## 2.1.7 小节\n",
    "* 深度学习存储和操作数据的主要接口是张量（\\(n\\)维数组）。它提供了各种功能，包括基本数学运算、广播、索引、切片、内存节省和转换其他Python对象。"
   ]
  },
  {
   "cell_type": "markdown",
   "id": "5cdb54d0",
   "metadata": {},
   "source": [
    "## 2.1.8 练习\n",
    "\n",
    "\n",
    "1.运行本节中的代码。将本节中的条件语句X == Y更改为X < Y或X > Y，然后看看你可以得到什么样的张量。\n",
    "\n",
    "2.用其他形状（例如三维张量）替换广播机制中按元素操作的两个张量。结果是否与预期相同？\n"
   ]
  },
  {
   "cell_type": "markdown",
   "id": "d6ec16ab",
   "metadata": {},
   "source": [
    "### 作业1"
   ]
  },
  {
   "cell_type": "code",
   "execution_count": 21,
   "id": "138e53aa",
   "metadata": {},
   "outputs": [
    {
     "data": {
      "text/plain": [
       "tensor([[True, True, True, True],\n",
       "        [True, True, True, True],\n",
       "        [True, True, True, True]])"
      ]
     },
     "execution_count": 21,
     "metadata": {},
     "output_type": "execute_result"
    }
   ],
   "source": [
    "X < Y"
   ]
  },
  {
   "cell_type": "code",
   "execution_count": 22,
   "id": "bb295a91",
   "metadata": {},
   "outputs": [
    {
     "data": {
      "text/plain": [
       "tensor([[False, False, False, False],\n",
       "        [False, False, False, False],\n",
       "        [False, False, False, False]])"
      ]
     },
     "execution_count": 22,
     "metadata": {},
     "output_type": "execute_result"
    }
   ],
   "source": [
    "X > Y"
   ]
  },
  {
   "cell_type": "markdown",
   "id": "1379a134",
   "metadata": {},
   "source": [
    "### 作业2??\\\n",
    "张量"
   ]
  },
  {
   "cell_type": "code",
   "execution_count": 47,
   "id": "bb78dc46",
   "metadata": {},
   "outputs": [
    {
     "ename": "RuntimeError",
     "evalue": "The size of tensor a (3) must match the size of tensor b (2) at non-singleton dimension 0",
     "output_type": "error",
     "traceback": [
      "\u001b[0;31m---------------------------------------------------------------------------\u001b[0m",
      "\u001b[0;31mRuntimeError\u001b[0m                              Traceback (most recent call last)",
      "\u001b[0;32m/tmp/ipykernel_35070/2508853480.py\u001b[0m in \u001b[0;36m<module>\u001b[0;34m\u001b[0m\n\u001b[1;32m      1\u001b[0m \u001b[0ma\u001b[0m \u001b[0;34m=\u001b[0m \u001b[0mtorch\u001b[0m\u001b[0;34m.\u001b[0m\u001b[0mtensor\u001b[0m\u001b[0;34m(\u001b[0m\u001b[0;34m[\u001b[0m\u001b[0;34m[\u001b[0m\u001b[0;36m2\u001b[0m\u001b[0;34m,\u001b[0m\u001b[0;36m3\u001b[0m\u001b[0;34m,\u001b[0m\u001b[0;36m4\u001b[0m\u001b[0;34m]\u001b[0m\u001b[0;34m,\u001b[0m \u001b[0;34m[\u001b[0m\u001b[0;36m1\u001b[0m\u001b[0;34m,\u001b[0m\u001b[0;36m2\u001b[0m\u001b[0;34m,\u001b[0m\u001b[0;36m3\u001b[0m\u001b[0;34m]\u001b[0m\u001b[0;34m,\u001b[0m \u001b[0;34m[\u001b[0m\u001b[0;36m3\u001b[0m\u001b[0;34m,\u001b[0m\u001b[0;36m4\u001b[0m\u001b[0;34m,\u001b[0m\u001b[0;36m5\u001b[0m\u001b[0;34m]\u001b[0m\u001b[0;34m]\u001b[0m\u001b[0;34m)\u001b[0m\u001b[0;34m\u001b[0m\u001b[0;34m\u001b[0m\u001b[0m\n\u001b[1;32m      2\u001b[0m \u001b[0mb\u001b[0m \u001b[0;34m=\u001b[0m \u001b[0mtorch\u001b[0m\u001b[0;34m.\u001b[0m\u001b[0mtensor\u001b[0m\u001b[0;34m(\u001b[0m\u001b[0;34m[\u001b[0m\u001b[0;34m[\u001b[0m\u001b[0;36m1\u001b[0m\u001b[0;34m,\u001b[0m\u001b[0;36m2\u001b[0m\u001b[0;34m,\u001b[0m\u001b[0;36m3\u001b[0m\u001b[0;34m]\u001b[0m\u001b[0;34m,\u001b[0m \u001b[0;34m[\u001b[0m\u001b[0;36m1\u001b[0m\u001b[0;34m,\u001b[0m\u001b[0;36m2\u001b[0m\u001b[0;34m,\u001b[0m\u001b[0;36m3\u001b[0m\u001b[0;34m]\u001b[0m\u001b[0;34m]\u001b[0m\u001b[0;34m)\u001b[0m\u001b[0;34m\u001b[0m\u001b[0;34m\u001b[0m\u001b[0m\n\u001b[0;32m----> 3\u001b[0;31m \u001b[0ma\u001b[0m \u001b[0;34m+\u001b[0m \u001b[0mb\u001b[0m\u001b[0;34m\u001b[0m\u001b[0;34m\u001b[0m\u001b[0m\n\u001b[0m",
      "\u001b[0;31mRuntimeError\u001b[0m: The size of tensor a (3) must match the size of tensor b (2) at non-singleton dimension 0"
     ]
    }
   ],
   "source": [
    "a = torch.tensor([[2,3,4], [1,2,3], [3,4,5]])\n",
    "b = torch.tensor([[1,2,3], [1,2,3]])\n",
    "a + b"
   ]
  }
 ],
 "metadata": {
  "hide_input": false,
  "kernelspec": {
   "display_name": "Python [conda env:lmd2l] *",
   "language": "python",
   "name": "conda-env-lmd2l-py"
  },
  "language_info": {
   "codemirror_mode": {
    "name": "ipython",
    "version": 3
   },
   "file_extension": ".py",
   "mimetype": "text/x-python",
   "name": "python",
   "nbconvert_exporter": "python",
   "pygments_lexer": "ipython3",
   "version": "3.9.7"
  },
  "latex_envs": {
   "LaTeX_envs_menu_present": true,
   "autoclose": false,
   "autocomplete": true,
   "bibliofile": "biblio.bib",
   "cite_by": "apalike",
   "current_citInitial": 1,
   "eqLabelWithNumbers": true,
   "eqNumInitial": 1,
   "hotkeys": {
    "equation": "Ctrl-E",
    "itemize": "Ctrl-I"
   },
   "labels_anchors": false,
   "latex_user_defs": false,
   "report_style_numbering": false,
   "user_envs_cfg": false
  },
  "nbTranslate": {
   "displayLangs": [
    "*"
   ],
   "hotkey": "alt-t",
   "langInMainMenu": true,
   "sourceLang": "en",
   "targetLang": "fr",
   "useGoogleTranslate": true
  },
  "toc": {
   "base_numbering": 1,
   "nav_menu": {},
   "number_sections": false,
   "sideBar": true,
   "skip_h1_title": false,
   "title_cell": "Table of Contents",
   "title_sidebar": "Contents",
   "toc_cell": false,
   "toc_position": {
    "height": "calc(100% - 180px)",
    "left": "10px",
    "top": "150px",
    "width": "165px"
   },
   "toc_section_display": true,
   "toc_window_display": true
  },
  "varInspector": {
   "cols": {
    "lenName": 16,
    "lenType": 16,
    "lenVar": 40
   },
   "kernels_config": {
    "python": {
     "delete_cmd_postfix": "",
     "delete_cmd_prefix": "del ",
     "library": "var_list.py",
     "varRefreshCmd": "print(var_dic_list())"
    },
    "r": {
     "delete_cmd_postfix": ") ",
     "delete_cmd_prefix": "rm(",
     "library": "var_list.r",
     "varRefreshCmd": "cat(var_dic_list()) "
    }
   },
   "types_to_exclude": [
    "module",
    "function",
    "builtin_function_or_method",
    "instance",
    "_Feature"
   ],
   "window_display": false
  }
 },
 "nbformat": 4,
 "nbformat_minor": 5
}

{
 "cells": [
  {
   "cell_type": "markdown",
   "id": "4ea9cc20",
   "metadata": {},
   "source": [
    "# 2.2 数据预处理"
   ]
  },
  {
   "cell_type": "markdown",
   "id": "9193ee79",
   "metadata": {},
   "source": [
    "## 2.2.1 读取数据集"
   ]
  },
  {
   "cell_type": "markdown",
   "id": "15ad35fe",
   "metadata": {},
   "source": [
    "### os.makedirs() 创建多层目录\n",
    "* （单层请用os.mkdir)exist_ok：是否在目录存在时触发异常。\n",
    "\n",
    "* 如果exist_ok为False（默认值），则在目标目录已存在的情况下触发FileExistsError异常；\n",
    "\n",
    "* 如果exist_ok为True，则在目标目录已存在的情况下不会触发FileExistsError异常。\n",
    "\n",
    "### os.path.join() 连接两个或更多的路径名组件"
   ]
  },
  {
   "cell_type": "code",
   "execution_count": 15,
   "id": "19cd92ca",
   "metadata": {},
   "outputs": [],
   "source": [
    "import os\n",
    "\n",
    "os.makedirs(os.path.join('..', 'data'), exist_ok=True) \n",
    "data_file = os.path.join('..', 'data', 'house_tiny.csv') \n",
    "with open(data_file, 'w') as f: \n",
    "    f.write('NumRooms,Alley,Price\\n') #列名 \n",
    "    f.write('NA,Pave,127500\\n') # 每行表示一个数据样本 \n",
    "    f.write('2,NA,106000\\n') \n",
    "    f.write('4,NA,178100\\n') \n",
    "    f.write('NA,NA,140000\\n')\n",
    "\n",
    "# 如果没有安装pandas，只需取消对以下行的注释：\n",
    "#!pip install pandas\n",
    "import pandas as pd \n",
    "# 方法1读取csv文件 \n",
    "# data = pd.read_csv(data_file) \n",
    "# data,type(data)"
   ]
  },
  {
   "cell_type": "code",
   "execution_count": 16,
   "id": "7c770035",
   "metadata": {},
   "outputs": [
    {
     "data": {
      "text/plain": [
       "(   NumRooms Alley   Price\n",
       " 0       NaN  Pave  127500\n",
       " 1       2.0   NaN  106000\n",
       " 2       4.0   NaN  178100\n",
       " 3       NaN   NaN  140000,\n",
       " pandas.core.frame.DataFrame)"
      ]
     },
     "execution_count": 16,
     "metadata": {},
     "output_type": "execute_result"
    }
   ],
   "source": [
    "# 方法2读取csv文件\n",
    "with open(data_file, 'rb') as get_myfile: \n",
    "    data = pd.read_csv(get_myfile) \n",
    "data,type(data)"
   ]
  },
  {
   "cell_type": "markdown",
   "id": "06b702ba",
   "metadata": {},
   "source": [
    "## 2.2.2 处理缺失值"
   ]
  },
  {
   "cell_type": "markdown",
   "id": "947f23bd",
   "metadata": {},
   "source": [
    "### iloc()位置索引\n",
    "### fillna()缺失值的处理方式"
   ]
  },
  {
   "cell_type": "code",
   "execution_count": 17,
   "id": "e554e4a0",
   "metadata": {},
   "outputs": [
    {
     "name": "stdout",
     "output_type": "stream",
     "text": [
      "   NumRooms Alley\n",
      "0       3.0  Pave\n",
      "1       2.0   NaN\n",
      "2       4.0   NaN\n",
      "3       3.0   NaN\n"
     ]
    },
    {
     "name": "stderr",
     "output_type": "stream",
     "text": [
      "/tmp/ipykernel_38319/904899738.py:2: FutureWarning: Dropping of nuisance columns in DataFrame reductions (with 'numeric_only=None') is deprecated; in a future version this will raise TypeError.  Select only valid columns before calling the reduction.\n",
      "  inputs = inputs.fillna(inputs.mean())\n"
     ]
    }
   ],
   "source": [
    "inputs, outputs = data.iloc[:, 0:2], data.iloc[:, 2] \n",
    "inputs = inputs.fillna(inputs.mean()) \n",
    "print(inputs)"
   ]
  },
  {
   "cell_type": "markdown",
   "id": "c1c256ac",
   "metadata": {},
   "source": [
    "### get_dummies() 实现one hot encode的方式"
   ]
  },
  {
   "cell_type": "code",
   "execution_count": 19,
   "id": "0ae19a8d",
   "metadata": {},
   "outputs": [
    {
     "name": "stdout",
     "output_type": "stream",
     "text": [
      "   NumRooms  Alley_Pave  Alley_nan\n",
      "0       3.0           1          0\n",
      "1       2.0           0          1\n",
      "2       4.0           0          1\n",
      "3       3.0           0          1\n"
     ]
    }
   ],
   "source": [
    "inputs = pd.get_dummies(inputs, dummy_na=True) \n",
    "print(inputs)"
   ]
  },
  {
   "cell_type": "markdown",
   "id": "adf27eb8",
   "metadata": {},
   "source": [
    "## 2.2.3 转换为张量格式"
   ]
  },
  {
   "cell_type": "code",
   "execution_count": 20,
   "id": "33eb7891",
   "metadata": {},
   "outputs": [
    {
     "data": {
      "text/plain": [
       "(tensor([[3., 1., 0.],\n",
       "         [2., 0., 1.],\n",
       "         [4., 0., 1.],\n",
       "         [3., 0., 1.]], dtype=torch.float64),\n",
       " tensor([127500, 106000, 178100, 140000]))"
      ]
     },
     "execution_count": 20,
     "metadata": {},
     "output_type": "execute_result"
    }
   ],
   "source": [
    "import torch\n",
    "#转变是用inputs.values X, y = torch.tensor(inputs.values), torch.tensor(outputs.values) X, y\n",
    "X, y = torch.tensor(inputs.values), torch.tensor(outputs.values)\n",
    "X, y"
   ]
  },
  {
   "cell_type": "markdown",
   "id": "d60e6089",
   "metadata": {},
   "source": [
    "## 2.2.4 小结"
   ]
  },
  {
   "cell_type": "markdown",
   "id": "01b2c92c",
   "metadata": {},
   "source": [
    "* 像庞大的Python生态系统中的许多其他扩展包一样，pandas可以与张量兼容。\n",
    "\n",
    "* 插值和删除可用于处理缺失的数据。"
   ]
  },
  {
   "cell_type": "markdown",
   "id": "95632045",
   "metadata": {},
   "source": [
    "## 2.2.5 练习"
   ]
  },
  {
   "cell_type": "markdown",
   "id": "a3fec00a",
   "metadata": {},
   "source": [
    "创建包含更多行和列的原始数据集。\n",
    "\n",
    "1.删除缺失值最多的列。\n",
    "\n",
    "2.将预处理后的数据集转换为张量格式。"
   ]
  },
  {
   "cell_type": "markdown",
   "id": "dce3d14a",
   "metadata": {},
   "source": [
    "### 作业\n",
    "### 参考函数：isna()\\sum()\\drop()\\argmax()\\index()"
   ]
  },
  {
   "cell_type": "code",
   "execution_count": 25,
   "id": "0cd2ab73",
   "metadata": {
    "code_folding": []
   },
   "outputs": [
    {
     "data": {
      "text/html": [
       "<div>\n",
       "<style scoped>\n",
       "    .dataframe tbody tr th:only-of-type {\n",
       "        vertical-align: middle;\n",
       "    }\n",
       "\n",
       "    .dataframe tbody tr th {\n",
       "        vertical-align: top;\n",
       "    }\n",
       "\n",
       "    .dataframe thead th {\n",
       "        text-align: right;\n",
       "    }\n",
       "</style>\n",
       "<table border=\"1\" class=\"dataframe\">\n",
       "  <thead>\n",
       "    <tr style=\"text-align: right;\">\n",
       "      <th></th>\n",
       "      <th>Num_stu</th>\n",
       "      <th>Name</th>\n",
       "      <th>Age</th>\n",
       "      <th>Sex</th>\n",
       "      <th>Salary</th>\n",
       "    </tr>\n",
       "  </thead>\n",
       "  <tbody>\n",
       "    <tr>\n",
       "      <th>0</th>\n",
       "      <td>1.0</td>\n",
       "      <td>Bob</td>\n",
       "      <td>23.0</td>\n",
       "      <td>Man</td>\n",
       "      <td>2300.0</td>\n",
       "    </tr>\n",
       "    <tr>\n",
       "      <th>1</th>\n",
       "      <td>2.0</td>\n",
       "      <td>Lily</td>\n",
       "      <td>NaN</td>\n",
       "      <td>Man</td>\n",
       "      <td>2200.0</td>\n",
       "    </tr>\n",
       "    <tr>\n",
       "      <th>2</th>\n",
       "      <td>NaN</td>\n",
       "      <td>Tim</td>\n",
       "      <td>21.0</td>\n",
       "      <td>Man</td>\n",
       "      <td>NaN</td>\n",
       "    </tr>\n",
       "    <tr>\n",
       "      <th>3</th>\n",
       "      <td>4.0</td>\n",
       "      <td>NaN</td>\n",
       "      <td>27.0</td>\n",
       "      <td>Women</td>\n",
       "      <td>3500.0</td>\n",
       "    </tr>\n",
       "    <tr>\n",
       "      <th>4</th>\n",
       "      <td>1.0</td>\n",
       "      <td>Jane</td>\n",
       "      <td>25.0</td>\n",
       "      <td>NaN</td>\n",
       "      <td>NaN</td>\n",
       "    </tr>\n",
       "  </tbody>\n",
       "</table>\n",
       "</div>"
      ],
      "text/plain": [
       "   Num_stu  Name   Age    Sex   Salary\n",
       "0      1.0   Bob  23.0    Man   2300.0\n",
       "1      2.0  Lily   NaN    Man   2200.0\n",
       "2      NaN   Tim  21.0    Man      NaN\n",
       "3      4.0   NaN  27.0  Women   3500.0\n",
       "4      1.0  Jane  25.0    NaN      NaN"
      ]
     },
     "execution_count": 25,
     "metadata": {},
     "output_type": "execute_result"
    }
   ],
   "source": [
    "import os \n",
    "\n",
    "os.makedirs(os.path.join('..', 'data'), exist_ok=True) \n",
    "\n",
    "data2_flie = os.path.join('..', 'data', 'homework_22.csv') \n",
    "\n",
    "with open(data2_flie, 'w') as f: \n",
    "    f.write('Num_stu, Name, Age, Sex, Salary\\n') \n",
    "    f.write('001,Bob,23,Man,2300\\n') \n",
    "    f.write('002,Lily,NA,Man,2200\\n') \n",
    "    f.write('NA,Tim,21,Man,NA\\n') \n",
    "    f.write('004,NA,27,Women,3500\\n') \n",
    "    f.write('001,Jane,25,NA,NA\\n')\n",
    "\n",
    "data = pd.read_csv(data2_flie) \n",
    "data"
   ]
  },
  {
   "cell_type": "code",
   "execution_count": 26,
   "id": "0f78caa6",
   "metadata": {},
   "outputs": [
    {
     "data": {
      "text/html": [
       "<div>\n",
       "<style scoped>\n",
       "    .dataframe tbody tr th:only-of-type {\n",
       "        vertical-align: middle;\n",
       "    }\n",
       "\n",
       "    .dataframe tbody tr th {\n",
       "        vertical-align: top;\n",
       "    }\n",
       "\n",
       "    .dataframe thead th {\n",
       "        text-align: right;\n",
       "    }\n",
       "</style>\n",
       "<table border=\"1\" class=\"dataframe\">\n",
       "  <thead>\n",
       "    <tr style=\"text-align: right;\">\n",
       "      <th></th>\n",
       "      <th>Num_stu</th>\n",
       "      <th>Name</th>\n",
       "      <th>Age</th>\n",
       "      <th>Sex</th>\n",
       "    </tr>\n",
       "  </thead>\n",
       "  <tbody>\n",
       "    <tr>\n",
       "      <th>0</th>\n",
       "      <td>1.0</td>\n",
       "      <td>Bob</td>\n",
       "      <td>23.0</td>\n",
       "      <td>Man</td>\n",
       "    </tr>\n",
       "    <tr>\n",
       "      <th>1</th>\n",
       "      <td>2.0</td>\n",
       "      <td>Lily</td>\n",
       "      <td>NaN</td>\n",
       "      <td>Man</td>\n",
       "    </tr>\n",
       "    <tr>\n",
       "      <th>2</th>\n",
       "      <td>NaN</td>\n",
       "      <td>Tim</td>\n",
       "      <td>21.0</td>\n",
       "      <td>Man</td>\n",
       "    </tr>\n",
       "    <tr>\n",
       "      <th>3</th>\n",
       "      <td>4.0</td>\n",
       "      <td>NaN</td>\n",
       "      <td>27.0</td>\n",
       "      <td>Women</td>\n",
       "    </tr>\n",
       "    <tr>\n",
       "      <th>4</th>\n",
       "      <td>1.0</td>\n",
       "      <td>Jane</td>\n",
       "      <td>25.0</td>\n",
       "      <td>NaN</td>\n",
       "    </tr>\n",
       "  </tbody>\n",
       "</table>\n",
       "</div>"
      ],
      "text/plain": [
       "   Num_stu  Name   Age    Sex\n",
       "0      1.0   Bob  23.0    Man\n",
       "1      2.0  Lily   NaN    Man\n",
       "2      NaN   Tim  21.0    Man\n",
       "3      4.0   NaN  27.0  Women\n",
       "4      1.0  Jane  25.0    NaN"
      ]
     },
     "execution_count": 26,
     "metadata": {},
     "output_type": "execute_result"
    }
   ],
   "source": [
    "x = data.isna().sum() \n",
    "x\n",
    "\n",
    "data1 = data.drop(columns=x.index[x.argmax()])\n",
    "x.argmax(),x.index[1],x.index[x.argmax()]\n",
    "\n",
    "data1"
   ]
  },
  {
   "cell_type": "markdown",
   "id": "6e949623",
   "metadata": {},
   "source": [
    "## 2.2.6 扩充知识点"
   ]
  },
  {
   "cell_type": "markdown",
   "id": "e000688e",
   "metadata": {},
   "source": [
    "1.缺失值的查看，统计每一行缺失值，统计每一列缺失值，\n",
    "\n",
    "2.drop中函数的应用\n",
    "\n",
    "3.填充缺失值的应用\n",
    "\n",
    "4.参考链接 https://blog.csdn.net/weixin_45735361/article/details/104249238?ops_request_misc=%257B%2522request%255Fid%2522%253A%2522163686910216780269874040%2522%252C%2522scm%2522%253A%252220140713.130102334.pc%255Fall.%2522%257D&request_id=163686910216780269874040&biz_id=0&utm_medium=distribute.pc_search_result.none-task-blog-2~all~first_rank_ecpm_v1~rank_v31_ecpm-1-104249238.first_rank_v2_pc_rank_v29&utm_term=np%E4%B8%AD%E8%AE%A1%E7%AE%97%E6%AF%8F%E4%B8%80%E8%A1%8C%E7%BC%BA%E5%A4%B1%E5%80%BC&spm=1018.2226.3001.4187"
   ]
  }
 ],
 "metadata": {
  "hide_input": false,
  "kernelspec": {
   "display_name": "Python [conda env:d2l] *",
   "language": "python",
   "name": "conda-env-d2l-py"
  },
  "language_info": {
   "codemirror_mode": {
    "name": "ipython",
    "version": 3
   },
   "file_extension": ".py",
   "mimetype": "text/x-python",
   "name": "python",
   "nbconvert_exporter": "python",
   "pygments_lexer": "ipython3",
   "version": "3.8.12"
  },
  "latex_envs": {
   "LaTeX_envs_menu_present": true,
   "autoclose": false,
   "autocomplete": true,
   "bibliofile": "biblio.bib",
   "cite_by": "apalike",
   "current_citInitial": 1,
   "eqLabelWithNumbers": true,
   "eqNumInitial": 1,
   "hotkeys": {
    "equation": "Ctrl-E",
    "itemize": "Ctrl-I"
   },
   "labels_anchors": false,
   "latex_user_defs": false,
   "report_style_numbering": false,
   "user_envs_cfg": false
  },
  "toc": {
   "base_numbering": 1,
   "nav_menu": {},
   "number_sections": false,
   "sideBar": true,
   "skip_h1_title": false,
   "title_cell": "Table of Contents",
   "title_sidebar": "Contents",
   "toc_cell": false,
   "toc_position": {
    "height": "calc(100% - 180px)",
    "left": "10px",
    "top": "150px",
    "width": "165px"
   },
   "toc_section_display": true,
   "toc_window_display": false
  }
 },
 "nbformat": 4,
 "nbformat_minor": 5
}

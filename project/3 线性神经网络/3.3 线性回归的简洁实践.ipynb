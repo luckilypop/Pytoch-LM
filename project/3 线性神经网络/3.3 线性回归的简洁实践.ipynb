{
 "cells": [
  {
   "cell_type": "markdown",
   "id": "b9d64723",
   "metadata": {},
   "source": [
    "# 3.3 线性回归的简介实现"
   ]
  },
  {
   "cell_type": "markdown",
   "id": "da3396ff",
   "metadata": {},
   "source": [
    "## 3.3.1 生成数据集"
   ]
  },
  {
   "cell_type": "code",
   "execution_count": 10,
   "id": "2708209b",
   "metadata": {},
   "outputs": [],
   "source": [
    "import numpy as np\n",
    "import torch\n",
    "from torch.utils import data\n",
    "from d2l import torch as d2l\n",
    "\n",
    "\n",
    "true_w = torch.tensor([2, -3.4])\n",
    "true_b = 4.2\n",
    "features, labels = d2l.synthetic_data(true_w, true_b, 1000)"
   ]
  },
  {
   "cell_type": "markdown",
   "id": "5eef8fe9",
   "metadata": {},
   "source": [
    "## 3.3.2 读取数据集"
   ]
  },
  {
   "cell_type": "code",
   "execution_count": 2,
   "id": "b9925704",
   "metadata": {},
   "outputs": [],
   "source": [
    "def load_array(data_arrays, batch_size, is_train=True):  #@save\n",
    "    \"\"\"构造一个PyTorch数据迭代器。\"\"\"\n",
    "    dataset = data.TensorDataset(*data_arrays)\n",
    "    return data.DataLoader(dataset, batch_size, shuffle=is_train)\n",
    "\n",
    "batch_size = 10\n",
    "data_iter = load_array((features, labels), batch_size)"
   ]
  },
  {
   "cell_type": "code",
   "execution_count": 3,
   "id": "3b31f9db",
   "metadata": {},
   "outputs": [
    {
     "data": {
      "text/plain": [
       "[tensor([[ 0.3593,  0.3212],\n",
       "         [ 0.3372,  1.6431],\n",
       "         [-2.4642,  0.0085],\n",
       "         [-0.2206,  0.1808],\n",
       "         [-0.9479,  0.4865],\n",
       "         [ 2.3320, -0.4384],\n",
       "         [-1.7174, -1.0594],\n",
       "         [-1.0471,  1.5657],\n",
       "         [-1.1380, -0.6735],\n",
       "         [ 1.0666,  0.3735]]),\n",
       " tensor([[ 3.8399],\n",
       "         [-0.6993],\n",
       "         [-0.7591],\n",
       "         [ 3.1602],\n",
       "         [ 0.6535],\n",
       "         [10.3729],\n",
       "         [ 4.3655],\n",
       "         [-3.2139],\n",
       "         [ 4.1943],\n",
       "         [ 5.0770]])]"
      ]
     },
     "execution_count": 3,
     "metadata": {},
     "output_type": "execute_result"
    }
   ],
   "source": [
    "next(iter(data_iter))"
   ]
  },
  {
   "cell_type": "markdown",
   "id": "365eeda0",
   "metadata": {},
   "source": [
    "## 3.3.3 定义模型"
   ]
  },
  {
   "cell_type": "code",
   "execution_count": 4,
   "id": "8d6f9a7e",
   "metadata": {},
   "outputs": [],
   "source": [
    "# `nn` 是神经网络的缩写\n",
    "from torch import nn\n",
    "\n",
    "net = nn.Sequential(nn.Linear(2, 1))"
   ]
  },
  {
   "cell_type": "markdown",
   "id": "26c2e106",
   "metadata": {},
   "source": [
    "## 3.3.4初始化模型参数"
   ]
  },
  {
   "cell_type": "code",
   "execution_count": 5,
   "id": "0dce06a0",
   "metadata": {},
   "outputs": [
    {
     "data": {
      "text/plain": [
       "tensor([0.])"
      ]
     },
     "execution_count": 5,
     "metadata": {},
     "output_type": "execute_result"
    }
   ],
   "source": [
    "net[0].weight.data.normal_(0, 0.01)\n",
    "net[0].bias.data.fill_(0)\n"
   ]
  },
  {
   "cell_type": "markdown",
   "id": "00b9c6ef",
   "metadata": {},
   "source": [
    "## 3.3.5 定义损失函数"
   ]
  },
  {
   "cell_type": "code",
   "execution_count": 6,
   "id": "053355f5",
   "metadata": {},
   "outputs": [],
   "source": [
    "loss = nn.MSELoss()"
   ]
  },
  {
   "cell_type": "markdown",
   "id": "705a6e94",
   "metadata": {},
   "source": [
    "## 3.3.6 定义优化算法"
   ]
  },
  {
   "cell_type": "code",
   "execution_count": 7,
   "id": "dfb3c6d8",
   "metadata": {},
   "outputs": [],
   "source": [
    "trainer = torch.optim.SGD(net.parameters(), lr=0.03)"
   ]
  },
  {
   "cell_type": "markdown",
   "id": "24d58a90",
   "metadata": {},
   "source": [
    "## 3.3.7 训练"
   ]
  },
  {
   "cell_type": "code",
   "execution_count": 8,
   "id": "680ba408",
   "metadata": {},
   "outputs": [
    {
     "name": "stdout",
     "output_type": "stream",
     "text": [
      "epoch 1, loss 0.000245\n",
      "epoch 2, loss 0.000100\n",
      "epoch 3, loss 0.000100\n"
     ]
    }
   ],
   "source": [
    "num_epochs = 3\n",
    "for epoch in range(num_epochs):\n",
    "    for X, y in data_iter:\n",
    "        l = loss(net(X) ,y)\n",
    "        trainer.zero_grad()\n",
    "        l.backward()\n",
    "        trainer.step()\n",
    "    l = loss(net(features), labels)\n",
    "    print(f'epoch {epoch + 1}, loss {l:f}')"
   ]
  },
  {
   "cell_type": "code",
   "execution_count": null,
   "id": "240a35e0",
   "metadata": {},
   "outputs": [],
   "source": [
    "w = net[0].weight.data\n",
    "print('w的估计误差：', true_w - w.reshape(true_w.shape))\n",
    "b = net[0].bias.data\n",
    "print('b的估计误差：', true_b - b)\n"
   ]
  },
  {
   "cell_type": "markdown",
   "id": "d80eccaa",
   "metadata": {},
   "source": [
    "## 3.3.8 小结"
   ]
  },
  {
   "cell_type": "markdown",
   "id": "da7b3112",
   "metadata": {},
   "source": [
    "我们可以使用PyTorch的高级API更简洁地实现模型。\n",
    "\n",
    "在PyTorch中，data模块提供了数据处理工具，nn模块定义了大量的神经网络层和常见损失函数。\n",
    "\n",
    "我们可以通过_结尾的方法将参数替换，从而初始化参数"
   ]
  },
  {
   "cell_type": "markdown",
   "id": "c04045a6",
   "metadata": {},
   "source": [
    "## 3.3.9 练习"
   ]
  },
  {
   "cell_type": "code",
   "execution_count": null,
   "id": "5e0e73a2",
   "metadata": {},
   "outputs": [],
   "source": []
  }
 ],
 "metadata": {
  "hide_input": false,
  "kernelspec": {
   "display_name": "Python [conda env:d2l] *",
   "language": "python",
   "name": "conda-env-d2l-py"
  },
  "language_info": {
   "codemirror_mode": {
    "name": "ipython",
    "version": 3
   },
   "file_extension": ".py",
   "mimetype": "text/x-python",
   "name": "python",
   "nbconvert_exporter": "python",
   "pygments_lexer": "ipython3",
   "version": "3.8.12"
  },
  "latex_envs": {
   "LaTeX_envs_menu_present": true,
   "autoclose": false,
   "autocomplete": true,
   "bibliofile": "biblio.bib",
   "cite_by": "apalike",
   "current_citInitial": 1,
   "eqLabelWithNumbers": true,
   "eqNumInitial": 1,
   "hotkeys": {
    "equation": "Ctrl-E",
    "itemize": "Ctrl-I"
   },
   "labels_anchors": false,
   "latex_user_defs": false,
   "report_style_numbering": false,
   "user_envs_cfg": false
  },
  "toc": {
   "base_numbering": 1,
   "nav_menu": {},
   "number_sections": false,
   "sideBar": true,
   "skip_h1_title": false,
   "title_cell": "Table of Contents",
   "title_sidebar": "Contents",
   "toc_cell": false,
   "toc_position": {},
   "toc_section_display": true,
   "toc_window_display": true
  }
 },
 "nbformat": 4,
 "nbformat_minor": 5
}

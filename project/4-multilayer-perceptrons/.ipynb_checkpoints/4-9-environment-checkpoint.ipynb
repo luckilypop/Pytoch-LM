{
 "cells": [
  {
   "cell_type": "markdown",
   "id": "d6bb0531",
   "metadata": {},
   "source": [
    "# 4.9 环境和分布偏移"
   ]
  },
  {
   "cell_type": "markdown",
   "id": "fd908d1c",
   "metadata": {},
   "source": [
    "## 4.9.1 分布偏移\n",
    "### 协变量偏移\n",
    "\n",
    "在分布偏移的分类中，协变量偏移可能是研究的最广泛的。这里我们假设，虽然输入的分布可能随时间而改变，但标签函数（即条件分布$P(y \\mid \\mathbf{x})$）没有改变。统计学家称之为*协变量偏移*（covariate shift），因为这个问题是由于协变量（特征）分布的变化而产生的。虽然有时我们可以在不引用因果关系的情况下对分布偏移进行推理，但我们注意到，在我们认为$\\mathbf{x}$导致$y$的情况下，协变量偏移是一种自然假设。\n",
    "### 标签偏移\n",
    "\n",
    "*标签偏移*描述了与协变量偏移相反的问题。\n",
    "这里，我们假设标签边缘概率$P(y)$可以改变，但是类别条件分布$P(\\mathbf{x} \\mid y)$在不同的领域之间保持不变。当我们认为$y$导致$\\mathbf{x}$时，标签偏移是一个合理的假设。\n",
    "### 概念偏移"
   ]
  },
  {
   "cell_type": "markdown",
   "id": "1c9195c7",
   "metadata": {},
   "source": [
    "## 4.9.2 分布偏移的纠正\n",
    "### 经验风险与真实风险\n",
    "$$\\mathop{\\mathrm{minimize}}_f \\frac{1}{n} \\sum_{i=1}^n l(f(\\mathbf{x}_i), y_i),$$\n",
    ":eqlabel:`eq_empirical-risk-min`\n",
    "\n",
    "其中$l$是损失函数，用来度量给定响应标签$y_i$，预测$f(\\mathbf{x}_i)$的“糟糕程度”。统计学家称 :eqref:`eq_empirical-risk-min` 中的这一项为经验风险。\n",
    "*经验风险* （empirical risk）是\n",
    "为了近似 *真实风险*（true risk），整个训练数据上的平均损失，即从其真实分布$p(\\mathbf{x},y)$中抽取的所有数据的总体损失的期望值：\n",
    "\n",
    "$$E_{p(\\mathbf{x}, y)} [l(f(\\mathbf{x}), y)] = \\int\\int l(f(\\mathbf{x}), y) p(\\mathbf{x}, y) \\;d\\mathbf{x}dy.$$\n",
    ":eqlabel:`eq_true-risk`\n",
    "\n",
    "然而，在实践中，我们通常无法获得数据的总体。因此，*经验风险最小化*即在 :eqref:`eq_empirical-risk-min` 中最小化经验风险，是一种实用的机器学习策略，希望能近似最小化真实风险。"
   ]
  },
  {
   "cell_type": "markdown",
   "id": "ff7a9366",
   "metadata": {},
   "source": [
    "### 协变量偏移纠正\n",
    "我们需要根据数据来自正确分布与来自错误分布的概率之比来重新衡量每个数据样本的权重：\n",
    "\n",
    "$$\\beta_i \\stackrel{\\mathrm{def}}{=} \\frac{p(\\mathbf{x}_i)}{q(\\mathbf{x}_i)}.$$\n",
    "\n",
    "将权重$\\beta_i$代入到每个数据样本$(\\mathbf{x}_i, y_i)$中，我们可以使用”加权经验风险最小化“来训练模型：\n",
    "\n",
    "$$\\mathop{\\mathrm{minimize}}_f \\frac{1}{n} \\sum_{i=1}^n \\beta_i l(f(\\mathbf{x}_i), y_i).$$\n",
    ":eqlabel:`eq_weighted-empirical-risk-min`\n",
    "\n",
    "同样，我们不知道这个比率，所以在我们可以做任何有用的事情之前，我们需要估计它。"
   ]
  },
  {
   "cell_type": "markdown",
   "id": "120a4390",
   "metadata": {},
   "source": [
    "### 标签偏移纠正\n",
    "标签偏移的一个好处是，如果我们在源分布上有一个相当好的模型，那么我们可以得到对这些权重的一致估计，而不需要处理周边的其他维度。在深度学习中，输入往往是高维对象，如图像，而标签通常是更简单的对象，如类别。\n",
    "\n",
    "为了估计目标标签分布，我们首先采用性能相当好的现成分类器(通常基于训练数据进行训练)，并使用验证集(也来自训练分布)计算其混淆矩阵。混淆矩阵$\\mathbf{C}$是一个$k \\times k$矩阵，其中每列对应于标签类别，每行对应于我们模型的预测类别。每个单元格的值$c_{ij}$是验证集中，真实标签为$j$，而我们的模型预测为$i$的样本数量所占的比例。"
   ]
  },
  {
   "cell_type": "markdown",
   "id": "8d2f996b",
   "metadata": {},
   "source": [
    "### 概念偏移纠正"
   ]
  },
  {
   "cell_type": "markdown",
   "id": "7e6be7bb",
   "metadata": {},
   "source": [
    "## 4.9.3 学习问题的分类法"
   ]
  },
  {
   "cell_type": "markdown",
   "id": "5881a106",
   "metadata": {},
   "source": [
    "### 批量学习\n",
    "### 在线学习\n",
    "在在线学习中，我们有以下的循环，在这个循环中，给定新的观测结果，我们会不断地改进我们的模型。\n",
    "$$\n",
    "\\mathrm{model} ~ f_t \\longrightarrow\n",
    "\\mathrm{data} ~ \\mathbf{x}_t \\longrightarrow\n",
    "\\mathrm{estimate} ~ f_t(\\mathbf{x}_t) \\longrightarrow\n",
    "\\mathrm{observation} ~ y_t \\longrightarrow\n",
    "\\mathrm{loss} ~ l(y_t, f_t(\\mathbf{x}_t)) \\longrightarrow\n",
    "\\mathrm{model} ~ f_{t+1}\n",
    "$$\n",
    "\n",
    "### 老虎机\n",
    "们可以采取的行动是有限的。\n",
    "### 控制\n",
    "控制理论（如PID的变体）也被用于自动调整超参数，以获得更好的解构和重建质量，提高生成文本的多样性和生成图像的重建质量\n",
    "### 强化学习\n",
    "不同情况之间的一个关键区别是，在静止环境中可能一直有效的相同策略，在环境能够改变的情况下可能不会始终有效\n",
    "### 考虑环境\n",
    "不同情况之间的一个关键区别是，在静止环境中可能一直有效的相同策略，在环境能够改变的情况下可能不会始终有效"
   ]
  },
  {
   "cell_type": "markdown",
   "id": "7066b16e",
   "metadata": {},
   "source": [
    "## 4.9.4 小结\n",
    "\n",
    "* 在许多情况下，训练集和测试集并不来自同一个分布。这就是所谓的分布偏移。\n",
    "* 真实风险是从真实分布中抽取的所有数据的总体损失的预期。然而，这个数据总体通常是无法获得的。经验风险是训练数据的平均损失，用于近似真实风险。在实践中，我们进行经验风险最小化。\n",
    "* 在相应的假设条件下，可以在测试时检测并纠正协变量偏移和标签偏移。在测试时，不考虑这种偏移可能会成为问题。\n",
    "* 在某些情况下，环境可能会记住自动操作并以令人惊讶的方式做出响应。在构建模型时，我们必须考虑到这种可能性，并继续监控实时系统，并对我们的模型和环境以意想不到的方式纠缠在一起的可能性持开放态度。\n",
    "\n",
    "## 4.9.5 练习\n",
    "\n",
    "1. 当我们改变搜索引擎的行为时会发生什么?用户可能会做什么?那广告商呢?\n",
    "2. 实现一个协变量偏移检测器。提示:构建一个分类器。\n",
    "3. 实现协变量偏移纠正。\n",
    "4. 除了分布偏移，还有什么会影响经验风险接近真实风险的程度？"
   ]
  }
 ],
 "metadata": {
  "hide_input": false,
  "kernelspec": {
   "display_name": "Python [conda env:d2l] *",
   "language": "python",
   "name": "conda-env-d2l-py"
  },
  "language_info": {
   "codemirror_mode": {
    "name": "ipython",
    "version": 3
   },
   "file_extension": ".py",
   "mimetype": "text/x-python",
   "name": "python",
   "nbconvert_exporter": "python",
   "pygments_lexer": "ipython3",
   "version": "3.8.12"
  },
  "latex_envs": {
   "LaTeX_envs_menu_present": true,
   "autoclose": false,
   "autocomplete": true,
   "bibliofile": "biblio.bib",
   "cite_by": "apalike",
   "current_citInitial": 1,
   "eqLabelWithNumbers": true,
   "eqNumInitial": 1,
   "hotkeys": {
    "equation": "Ctrl-E",
    "itemize": "Ctrl-I"
   },
   "labels_anchors": false,
   "latex_user_defs": false,
   "report_style_numbering": false,
   "user_envs_cfg": false
  },
  "toc": {
   "base_numbering": 1,
   "nav_menu": {},
   "number_sections": false,
   "sideBar": true,
   "skip_h1_title": false,
   "title_cell": "Table of Contents",
   "title_sidebar": "Contents",
   "toc_cell": false,
   "toc_position": {},
   "toc_section_display": true,
   "toc_window_display": true
  }
 },
 "nbformat": 4,
 "nbformat_minor": 5
}

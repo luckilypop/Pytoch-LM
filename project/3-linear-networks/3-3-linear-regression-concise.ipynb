{
 "cells": [
  {
   "cell_type": "markdown",
   "id": "b9d64723",
   "metadata": {},
   "source": [
    "# 3.3 线性回归的简介实现"
   ]
  },
  {
   "cell_type": "markdown",
   "id": "da3396ff",
   "metadata": {},
   "source": [
    "## 3.3.1 生成数据集"
   ]
  },
  {
   "cell_type": "code",
   "execution_count": 2,
   "id": "2708209b",
   "metadata": {},
   "outputs": [],
   "source": [
    "import numpy as np\n",
    "import torch\n",
    "from torch.utils import data\n",
    "from d2l import torch as d2l\n",
    "\n",
    "\n",
    "true_w = torch.tensor([2, -3.4])\n",
    "true_b = 4.2\n",
    "features, labels = d2l.synthetic_data(true_w, true_b, 1000)\n",
    "true_w,true_b"
   ]
  },
  {
   "cell_type": "code",
   "execution_count": 3,
   "id": "e7399b05",
   "metadata": {},
   "outputs": [],
   "source": [
    "#### synthetic_data\n",
    "# Defined in file: ./chapter_linear-networks/linear-regression-scratch.md\n",
    "# def synthetic_data(w, b, num_examples):\n",
    "#     \"\"\"Generate y = Xw + b + noise.\"\"\"\n",
    "#     X = d2l.normal(0, 1, (num_examples, len(w)))\n",
    "#     y = d2l.matmul(X, w) + b\n",
    "#     y += d2l.normal(0, 0.01, y.shape)\n",
    "#     return X, d2l.reshape(y, (-1, 1))"
   ]
  },
  {
   "cell_type": "markdown",
   "id": "5eef8fe9",
   "metadata": {},
   "source": [
    "## 3.3.2 读取数据集"
   ]
  },
  {
   "cell_type": "markdown",
   "id": "84312dc1",
   "metadata": {},
   "source": [
    "### TensorDataset\n",
    "本质上与python zip方法类似，对数据进行打包整合。\n",
    "### DataLoader\n",
    "本质上就是一个iterable（跟python的内置类型list等一样），并利用多进程来加速batch data的处理，使用yield来使用有限的内存"
   ]
  },
  {
   "cell_type": "code",
   "execution_count": 4,
   "id": "b9925704",
   "metadata": {},
   "outputs": [],
   "source": [
    "def load_array(data_arrays, batch_size, is_train=True):  #@save\n",
    "    \"\"\"构造一个PyTorch数据迭代器。\"\"\"\n",
    "    dataset = data.TensorDataset(*data_arrays)\n",
    "    return data.DataLoader(dataset, batch_size, shuffle=is_train)\n",
    "\n",
    "batch_size = 10\n",
    "data_iter = load_array((features, labels), batch_size)"
   ]
  },
  {
   "cell_type": "code",
   "execution_count": 5,
   "id": "3b31f9db",
   "metadata": {},
   "outputs": [
    {
     "data": {
      "text/plain": [
       "[tensor([[ 1.2315, -0.1755],\n",
       "         [-0.8381,  0.0310],\n",
       "         [-0.4951, -0.9863],\n",
       "         [-0.9402,  2.2293],\n",
       "         [-1.6492,  0.2874],\n",
       "         [-1.3641,  0.2887],\n",
       "         [ 1.7503,  1.9525],\n",
       "         [ 1.0024,  0.0916],\n",
       "         [ 1.3549, -0.5413],\n",
       "         [ 2.6774, -0.1172]]),\n",
       " tensor([[ 7.2569],\n",
       "         [ 2.3993],\n",
       "         [ 6.5765],\n",
       "         [-5.2431],\n",
       "         [-0.0802],\n",
       "         [ 0.5022],\n",
       "         [ 1.0662],\n",
       "         [ 5.8954],\n",
       "         [ 8.7426],\n",
       "         [ 9.9759]])]"
      ]
     },
     "execution_count": 5,
     "metadata": {},
     "output_type": "execute_result"
    }
   ],
   "source": [
    "next(iter(data_iter))"
   ]
  },
  {
   "cell_type": "markdown",
   "id": "365eeda0",
   "metadata": {},
   "source": [
    "## 3.3.3 定义模型"
   ]
  },
  {
   "cell_type": "code",
   "execution_count": 9,
   "id": "8d6f9a7e",
   "metadata": {},
   "outputs": [
    {
     "data": {
      "text/plain": [
       "Sequential(\n",
       "  (0): Linear(in_features=2, out_features=1, bias=True)\n",
       ")"
      ]
     },
     "execution_count": 9,
     "metadata": {},
     "output_type": "execute_result"
    }
   ],
   "source": [
    "# `nn` 是神经网络的缩写\n",
    "# net的结果\n",
    "# Sequential(\n",
    "  #(0): Linear(in_features=2, out_features=1, bias=True))\n",
    "from torch import nn\n",
    "\n",
    "net = nn.Sequential(nn.Linear(2, 1))\n",
    "net"
   ]
  },
  {
   "cell_type": "markdown",
   "id": "26c2e106",
   "metadata": {},
   "source": [
    "## 3.3.4初始化模型参数"
   ]
  },
  {
   "cell_type": "code",
   "execution_count": 10,
   "id": "0dce06a0",
   "metadata": {},
   "outputs": [
    {
     "data": {
      "text/plain": [
       "tensor([0.])"
      ]
     },
     "execution_count": 10,
     "metadata": {},
     "output_type": "execute_result"
    }
   ],
   "source": [
    "net[0].weight.data.normal_(0, 0.01)\n",
    "net[0].bias.data.fill_(0)\n"
   ]
  },
  {
   "cell_type": "markdown",
   "id": "00b9c6ef",
   "metadata": {},
   "source": [
    "## 3.3.5 定义损失函数"
   ]
  },
  {
   "cell_type": "code",
   "execution_count": 11,
   "id": "053355f5",
   "metadata": {},
   "outputs": [],
   "source": [
    "loss = nn.MSELoss()"
   ]
  },
  {
   "cell_type": "markdown",
   "id": "705a6e94",
   "metadata": {},
   "source": [
    "## 3.3.6 定义优化算法"
   ]
  },
  {
   "cell_type": "markdown",
   "id": "ad724d34",
   "metadata": {},
   "source": [
    "### 数学方面的SGD"
   ]
  },
  {
   "cell_type": "code",
   "execution_count": 12,
   "id": "dfb3c6d8",
   "metadata": {},
   "outputs": [],
   "source": [
    "trainer = torch.optim.SGD(net.parameters(), lr=0.03)"
   ]
  },
  {
   "cell_type": "markdown",
   "id": "24d58a90",
   "metadata": {},
   "source": [
    "## 3.3.7 训练"
   ]
  },
  {
   "cell_type": "code",
   "execution_count": 12,
   "id": "680ba408",
   "metadata": {},
   "outputs": [
    {
     "name": "stdout",
     "output_type": "stream",
     "text": [
      "epoch 1, loss 0.000103\n",
      "epoch 2, loss 0.000103\n",
      "epoch 3, loss 0.000103\n"
     ]
    }
   ],
   "source": [
    "num_epochs = 3\n",
    "for epoch in range(num_epochs):\n",
    "    for X, y in data_iter:\n",
    "        l = loss(net(X) ,y)\n",
    "        trainer.zero_grad() # 优化参数置0\n",
    "        l.backward()\n",
    "        trainer.step() # 优化参数的更新 \n",
    "    l = loss(net(features), labels)\n",
    "    print(f'epoch {epoch + 1}, loss {l:f}')"
   ]
  },
  {
   "cell_type": "code",
   "execution_count": 13,
   "id": "240a35e0",
   "metadata": {},
   "outputs": [
    {
     "name": "stdout",
     "output_type": "stream",
     "text": [
      "w的估计误差： tensor([ 0.0005, -0.0004])\n",
      "b的估计误差： tensor([-0.0004])\n"
     ]
    }
   ],
   "source": [
    "w = net[0].weight.data\n",
    "print('w的估计误差：', true_w - w.reshape(true_w.shape))\n",
    "b = net[0].bias.data\n",
    "print('b的估计误差：', true_b - b)\n"
   ]
  },
  {
   "cell_type": "markdown",
   "id": "d80eccaa",
   "metadata": {},
   "source": [
    "## 3.3.8 小结"
   ]
  },
  {
   "cell_type": "markdown",
   "id": "da7b3112",
   "metadata": {},
   "source": [
    "我们可以使用PyTorch的高级API更简洁地实现模型。\n",
    "\n",
    "在PyTorch中，data模块提供了数据处理工具，nn模块定义了大量的神经网络层和常见损失函数。\n",
    "\n",
    "我们可以通过_结尾的方法将参数替换，从而初始化参数"
   ]
  },
  {
   "cell_type": "markdown",
   "id": "c04045a6",
   "metadata": {},
   "source": [
    "## 3.3.9 练习"
   ]
  },
  {
   "cell_type": "code",
   "execution_count": null,
   "id": "5e0e73a2",
   "metadata": {},
   "outputs": [],
   "source": []
  }
 ],
 "metadata": {
  "hide_input": false,
  "kernelspec": {
   "display_name": "Python [conda env:d2l] *",
   "language": "python",
   "name": "conda-env-d2l-py"
  },
  "language_info": {
   "codemirror_mode": {
    "name": "ipython",
    "version": 3
   },
   "file_extension": ".py",
   "mimetype": "text/x-python",
   "name": "python",
   "nbconvert_exporter": "python",
   "pygments_lexer": "ipython3",
   "version": "3.8.12"
  },
  "latex_envs": {
   "LaTeX_envs_menu_present": true,
   "autoclose": false,
   "autocomplete": true,
   "bibliofile": "biblio.bib",
   "cite_by": "apalike",
   "current_citInitial": 1,
   "eqLabelWithNumbers": true,
   "eqNumInitial": 1,
   "hotkeys": {
    "equation": "Ctrl-E",
    "itemize": "Ctrl-I"
   },
   "labels_anchors": false,
   "latex_user_defs": false,
   "report_style_numbering": false,
   "user_envs_cfg": false
  },
  "toc": {
   "base_numbering": 1,
   "nav_menu": {},
   "number_sections": false,
   "sideBar": true,
   "skip_h1_title": false,
   "title_cell": "Table of Contents",
   "title_sidebar": "Contents",
   "toc_cell": false,
   "toc_position": {},
   "toc_section_display": true,
   "toc_window_display": false
  }
 },
 "nbformat": 4,
 "nbformat_minor": 5
}

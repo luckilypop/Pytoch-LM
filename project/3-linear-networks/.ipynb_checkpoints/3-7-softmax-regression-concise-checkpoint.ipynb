{
 "cells": [
  {
   "cell_type": "markdown",
   "id": "f4fc1d4c",
   "metadata": {},
   "source": [
    "# 3.7 softmax回归的简介实现"
   ]
  },
  {
   "cell_type": "code",
   "execution_count": null,
   "id": "726268a0",
   "metadata": {},
   "outputs": [],
   "source": [
    "import torch\n",
    "from torch import nn\n",
    "from d2l import torch as d2l\n",
    "\n",
    "\n",
    "batch_size = 256\n",
    "train_iter, test_iter = d2l.load_data_fashion_mnist(batch_size)\n"
   ]
  },
  {
   "cell_type": "markdown",
   "id": "457d29d0",
   "metadata": {},
   "source": [
    "## 3.7.1 初始化模型参数"
   ]
  },
  {
   "cell_type": "code",
   "execution_count": null,
   "id": "c280584a",
   "metadata": {},
   "outputs": [],
   "source": [
    "# PyTorch不会隐式地调整输入的形状。因此，\n",
    "# 我们在线性层前定义了展平层（flatten），来调整网络输入的形状\n",
    "net = nn.Sequential(nn.Flatten(), nn.Linear(784, 10))\n",
    "\n",
    "def init_weights(m):\n",
    "    if type(m) == nn.Linear:\n",
    "        nn.init.normal_(m.weight, std=0.01)\n",
    "\n",
    "net.apply(init_weights);\n"
   ]
  },
  {
   "cell_type": "markdown",
   "id": "b6acca03",
   "metadata": {},
   "source": [
    "## 3.7.2  重新审视Softmax的实现"
   ]
  },
  {
   "cell_type": "code",
   "execution_count": null,
   "id": "208a1f7b",
   "metadata": {},
   "outputs": [],
   "source": [
    "loss = nn.CrossEntropyLoss()"
   ]
  },
  {
   "cell_type": "markdown",
   "id": "5e68a11d",
   "metadata": {},
   "source": [
    "## 3.7.3 优化算法"
   ]
  },
  {
   "cell_type": "code",
   "execution_count": null,
   "id": "84d356ff",
   "metadata": {},
   "outputs": [],
   "source": [
    "trainer = torch.optim.SGD(net.parameters(), lr=0.1)"
   ]
  },
  {
   "cell_type": "markdown",
   "id": "e1b9c82d",
   "metadata": {},
   "source": [
    "## 3.7.4 训练"
   ]
  },
  {
   "cell_type": "code",
   "execution_count": null,
   "id": "7b0770bb",
   "metadata": {},
   "outputs": [],
   "source": [
    "num_epochs = 10\n",
    "d2l.train_ch3(net, train_iter, test_iter, loss, num_epochs, trainer)\n"
   ]
  },
  {
   "cell_type": "markdown",
   "id": "f0ddae8b",
   "metadata": {},
   "source": [
    "## 3.7.5 小结"
   ]
  },
  {
   "cell_type": "markdown",
   "id": "3f283da1",
   "metadata": {},
   "source": [
    "使用高级API，我们可以更简洁地实现softmax回归。\n",
    "\n",
    "从计算的角度来看，实现softmax回归比较复杂。在许多情况下，深度学习框架在这些著名的技巧之外采取了额外的预防措施，来确保数值的稳定性。这使我们避免了在实践中从零开始编写模型时可能遇到的陷阱。"
   ]
  }
 ],
 "metadata": {
  "hide_input": false,
  "kernelspec": {
   "display_name": "Python [conda env:d2l] *",
   "language": "python",
   "name": "conda-env-d2l-py"
  },
  "language_info": {
   "codemirror_mode": {
    "name": "ipython",
    "version": 3
   },
   "file_extension": ".py",
   "mimetype": "text/x-python",
   "name": "python",
   "nbconvert_exporter": "python",
   "pygments_lexer": "ipython3",
   "version": "3.8.12"
  },
  "latex_envs": {
   "LaTeX_envs_menu_present": true,
   "autoclose": false,
   "autocomplete": true,
   "bibliofile": "biblio.bib",
   "cite_by": "apalike",
   "current_citInitial": 1,
   "eqLabelWithNumbers": true,
   "eqNumInitial": 1,
   "hotkeys": {
    "equation": "Ctrl-E",
    "itemize": "Ctrl-I"
   },
   "labels_anchors": false,
   "latex_user_defs": false,
   "report_style_numbering": false,
   "user_envs_cfg": false
  },
  "toc": {
   "base_numbering": 1,
   "nav_menu": {},
   "number_sections": false,
   "sideBar": true,
   "skip_h1_title": false,
   "title_cell": "Table of Contents",
   "title_sidebar": "Contents",
   "toc_cell": false,
   "toc_position": {},
   "toc_section_display": true,
   "toc_window_display": false
  }
 },
 "nbformat": 4,
 "nbformat_minor": 5
}

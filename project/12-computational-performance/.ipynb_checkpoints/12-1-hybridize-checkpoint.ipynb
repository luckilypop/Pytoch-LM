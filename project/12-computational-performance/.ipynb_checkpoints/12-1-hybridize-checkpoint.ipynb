{
 "cells": [
  {
   "cell_type": "markdown",
   "id": "57279f7f",
   "metadata": {},
   "source": [
    "# 12.1. 编译器和解释器"
   ]
  },
  {
   "cell_type": "markdown",
   "id": "3c4eee4c",
   "metadata": {},
   "source": [
    "- 本书主要关注的是命令式编程（imperative programming）。\n",
    "- 命令式编程使用诸如print、+和if之类的语句来更改程序的状态。\n",
    "- 命令式编程很方便，但可能效率不高。\n",
    "- 一方面原因，Python 会单独执行这三个函数的调用，而没有考虑 add 函数在 fancy_func 中被重复调用。如果在一个 GPU（甚至多个 GPU）上执行这些命令，那么 Python 解释器产生的开销可能会非常大。\n",
    "- 需要保存 e 和 f 的变量值，直到 fancy_func 中的所有语句都执行完毕。"
   ]
  },
  {
   "cell_type": "code",
   "execution_count": 1,
   "id": "51d30f12",
   "metadata": {},
   "outputs": [
    {
     "name": "stdout",
     "output_type": "stream",
     "text": [
      "10\n"
     ]
    }
   ],
   "source": [
    "def add(a, b):\n",
    "    return a + b\n",
    "\n",
    "def fancy_func(a, b, c, d):\n",
    "    e = add(a, b)\n",
    "    f = add(c, d)\n",
    "    g = add(e, f)\n",
    "    return g\n",
    "\n",
    "print(fancy_func(1, 2, 3, 4))"
   ]
  },
  {
   "cell_type": "markdown",
   "id": "536f0b46",
   "metadata": {},
   "source": [
    "## 12.1.1. 符号式编程\n",
    "- 符号式编程（symbolic programming），即代码通常只在完全定义了过程之后才执行计算\n",
    "- 这个策略被多个深度学习框架使用，包括 Theano 和 TensorFlow（后者已经获得了命令式编程的扩展）。一般包括以下步骤：\n",
    "\n",
    "1. 定义计算流程。\n",
    "1. 将流程编译成可执行的程序。\n",
    "1. 给定输入，调用编译好的程序执行。"
   ]
  },
  {
   "cell_type": "code",
   "execution_count": 2,
   "id": "8bd9d27f",
   "metadata": {},
   "outputs": [
    {
     "name": "stdout",
     "output_type": "stream",
     "text": [
      "\n",
      "def add(a, b):\n",
      "    return a + b\n",
      "\n",
      "def fancy_func(a, b, c, d):\n",
      "    e = add(a, b)\n",
      "    f = add(c, d)\n",
      "    g = add(e, f)\n",
      "    return g\n",
      "print(fancy_func(1, 2, 3, 4))\n",
      "10\n"
     ]
    }
   ],
   "source": [
    "# 将通过模拟命令式编程来进一步了解符号式编程的概念。\n",
    "def add_():\n",
    "    return '''\n",
    "def add(a, b):\n",
    "    return a + b\n",
    "'''\n",
    "\n",
    "def fancy_func_():\n",
    "    return '''\n",
    "def fancy_func(a, b, c, d):\n",
    "    e = add(a, b)\n",
    "    f = add(c, d)\n",
    "    g = add(e, f)\n",
    "    return g\n",
    "'''\n",
    "\n",
    "def evoke_():\n",
    "    return add_() + fancy_func_() + 'print(fancy_func(1, 2, 3, 4))'\n",
    "\n",
    "prog = evoke_()\n",
    "print(prog)\n",
    "y = compile(prog, '', 'exec')\n",
    "exec(y)\n"
   ]
  },
  {
   "cell_type": "markdown",
   "id": "bd25ffab",
   "metadata": {},
   "source": [
    "命令式（解释型）编程和符号式编程的区别如下：\n",
    "\n",
    "* 命令式编程更容易使用。在 Python 中，命令式编程的大部分代码都是简单易懂的。命令式编程也更容易调试，这是因为无论是获取和打印所有的中间变量值，或者使用 Python 的内置调试工具都更加简单。\n",
    "* 符号式编程运行效率更高，更易于移植。符号式编程更容易在编译期间优化代码，同时还能够将程序移植到与 Python 无关的格式中，从而允许程序在非 Python 环境中运行，避免了任何潜在的与 Python 解释器相关的性能问题。"
   ]
  },
  {
   "cell_type": "markdown",
   "id": "8cae3d62",
   "metadata": {},
   "source": [
    "## 12.1.2. 混合式编程\n",
    "大部分深度学习框架都在命令式编程与符号式编程之间进行选择。"
   ]
  },
  {
   "cell_type": "markdown",
   "id": "e7ae1e68",
   "metadata": {},
   "source": [
    "## 12.1.3. Sequential的混合式编程"
   ]
  },
  {
   "cell_type": "code",
   "execution_count": 3,
   "id": "6927a5c3",
   "metadata": {},
   "outputs": [
    {
     "data": {
      "text/plain": [
       "tensor([[-0.3259,  0.0711]], grad_fn=<AddmmBackward0>)"
      ]
     },
     "execution_count": 3,
     "metadata": {},
     "output_type": "execute_result"
    }
   ],
   "source": [
    "import torch\n",
    "from torch import nn\n",
    "from d2l import torch as d2l\n",
    "\n",
    "# 义一个简单的多层感知机\n",
    "# 生产网络的工厂模式\n",
    "def get_net():\n",
    "    net = nn.Sequential(nn.Linear(512, 256),\n",
    "            nn.ReLU(),\n",
    "            nn.Linear(256, 128),\n",
    "            nn.ReLU(),\n",
    "            nn.Linear(128, 2))\n",
    "    return net\n",
    "\n",
    "x = torch.randn(size=(1, 512))\n",
    "net = get_net()\n",
    "net(x)\n"
   ]
  },
  {
   "cell_type": "code",
   "execution_count": 4,
   "id": "d013baa7",
   "metadata": {},
   "outputs": [
    {
     "data": {
      "text/plain": [
       "tensor([[-0.3259,  0.0711]], grad_fn=<AddmmBackward0>)"
      ]
     },
     "execution_count": 4,
     "metadata": {},
     "output_type": "execute_result"
    }
   ],
   "source": [
    "# 通过使用 torch.jit.script 函数来转换模型，\n",
    "# 我们就有能力编译和优化多层感知机中的计算，\n",
    "# 而模型的计算结果保持不变。\n",
    "net = torch.jit.script(net)\n",
    "net(x)"
   ]
  },
  {
   "cell_type": "markdown",
   "id": "af11e7af",
   "metadata": {},
   "source": [
    "### 通过混合式编程加速"
   ]
  },
  {
   "cell_type": "code",
   "execution_count": 5,
   "id": "513bb5c6",
   "metadata": {},
   "outputs": [],
   "source": [
    "# 定义一个度量时间的函数\n",
    "#@save\n",
    "class Benchmark:\n",
    "    def __init__(self, description='Done'):\n",
    "        self.description = description\n",
    "\n",
    "    def __enter__(self):\n",
    "        self.timer = d2l.Timer()\n",
    "        return self\n",
    "\n",
    "    def __exit__(self, *args):\n",
    "        print(f'{self.description}: {self.timer.stop():.4f} sec')\n"
   ]
  },
  {
   "cell_type": "code",
   "execution_count": 6,
   "id": "0c74b036",
   "metadata": {},
   "outputs": [
    {
     "name": "stdout",
     "output_type": "stream",
     "text": [
      "无torchscript: 2.6593 sec\n",
      "有torchscript: 2.5981 sec\n"
     ]
    }
   ],
   "source": [
    "# 可以调用网络两次，一次使用 torchscript，一次不使用 torchscript\n",
    "net = get_net()\n",
    "with Benchmark('无torchscript'):\n",
    "    for i in range(1000): net(x)\n",
    "\n",
    "net = torch.jit.script(net)\n",
    "with Benchmark('有torchscript'):\n",
    "    for i in range(1000): net(x)\n"
   ]
  },
  {
   "cell_type": "markdown",
   "id": "406f0cab",
   "metadata": {},
   "source": [
    "如以上结果所示，在 nn.Sequential 的实例被函数 torch.jit.script 脚本化后，通过使用符号式编程提高了计算性能。"
   ]
  },
  {
   "cell_type": "markdown",
   "id": "74758559",
   "metadata": {},
   "source": [
    "### 序列化\n",
    "- 编译模型的好处之一是我们可以将模型及其参数序列化（保存）到磁盘。\n",
    "- 这允许这些训练好的模型部署到其他设备上，并且还能方便地使用其他前端编程语言。\n",
    "- 同时，通常编译模型的代码执行速度也比命令式编程更快。"
   ]
  },
  {
   "cell_type": "code",
   "execution_count": 7,
   "id": "10027534",
   "metadata": {},
   "outputs": [
    {
     "name": "stdout",
     "output_type": "stream",
     "text": [
      "-rw-rw-r-- 1 yuke yuke 651K 12月  5 11:12 my_mlp\r\n"
     ]
    }
   ],
   "source": [
    "net.save('my_mlp')\n",
    "!ls -lh my_mlp*"
   ]
  },
  {
   "cell_type": "markdown",
   "id": "28f48ab7",
   "metadata": {},
   "source": [
    "## 12.1.4 小结\n",
    "\n",
    "* 命令式编程使得新模型的设计变得容易，因为可以依据控制流编写代码，并拥有相对成熟的 Python 软件生态。\n",
    "* 符号式编程要求我们先定义并且编译程序，然后再执行程序，其好处是提高了计算性能。"
   ]
  }
 ],
 "metadata": {
  "hide_input": false,
  "kernelspec": {
   "display_name": "Python [conda env:d2l] *",
   "language": "python",
   "name": "conda-env-d2l-py"
  },
  "language_info": {
   "codemirror_mode": {
    "name": "ipython",
    "version": 3
   },
   "file_extension": ".py",
   "mimetype": "text/x-python",
   "name": "python",
   "nbconvert_exporter": "python",
   "pygments_lexer": "ipython3",
   "version": "3.8.12"
  },
  "latex_envs": {
   "LaTeX_envs_menu_present": true,
   "autoclose": false,
   "autocomplete": true,
   "bibliofile": "biblio.bib",
   "cite_by": "apalike",
   "current_citInitial": 1,
   "eqLabelWithNumbers": true,
   "eqNumInitial": 1,
   "hotkeys": {
    "equation": "Ctrl-E",
    "itemize": "Ctrl-I"
   },
   "labels_anchors": false,
   "latex_user_defs": false,
   "report_style_numbering": false,
   "user_envs_cfg": false
  },
  "nbTranslate": {
   "displayLangs": [
    "*"
   ],
   "hotkey": "alt-t",
   "langInMainMenu": true,
   "sourceLang": "en",
   "targetLang": "fr",
   "useGoogleTranslate": true
  },
  "toc": {
   "base_numbering": 1,
   "nav_menu": {},
   "number_sections": false,
   "sideBar": true,
   "skip_h1_title": false,
   "title_cell": "Table of Contents",
   "title_sidebar": "Contents",
   "toc_cell": false,
   "toc_position": {},
   "toc_section_display": true,
   "toc_window_display": false
  },
  "varInspector": {
   "cols": {
    "lenName": 16,
    "lenType": 16,
    "lenVar": 40
   },
   "kernels_config": {
    "python": {
     "delete_cmd_postfix": "",
     "delete_cmd_prefix": "del ",
     "library": "var_list.py",
     "varRefreshCmd": "print(var_dic_list())"
    },
    "r": {
     "delete_cmd_postfix": ") ",
     "delete_cmd_prefix": "rm(",
     "library": "var_list.r",
     "varRefreshCmd": "cat(var_dic_list()) "
    }
   },
   "types_to_exclude": [
    "module",
    "function",
    "builtin_function_or_method",
    "instance",
    "_Feature"
   ],
   "window_display": false
  }
 },
 "nbformat": 4,
 "nbformat_minor": 5
}

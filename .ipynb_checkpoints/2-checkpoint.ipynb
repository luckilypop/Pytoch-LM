{
 "cells": [
  {
   "cell_type": "markdown",
   "id": "a35e3a7f",
   "metadata": {},
   "source": [
    "# 2 预备知识"
   ]
  },
  {
   "cell_type": "markdown",
   "id": "14588e38",
   "metadata": {},
   "source": [
    "## 2.1 数据操作"
   ]
  },
  {
   "cell_type": "markdown",
   "id": "daed41e3",
   "metadata": {},
   "source": [
    "### 2.1.1 入门"
   ]
  },
  {
   "cell_type": "code",
   "execution_count": 1,
   "id": "e8960db1",
   "metadata": {},
   "outputs": [],
   "source": [
    "import torch"
   ]
  },
  {
   "cell_type": "markdown",
   "id": "71b7a0bc",
   "metadata": {},
   "source": [
    "张量表示由一个数值组成的*数组*，这个数组可能有多个维度。\n",
    "具有一个轴的张量对应数学上的向量（vector）。\n",
    "具有两个轴的张量对应数学上的矩阵（matrix）。\n",
    "具有两个轴以上的张量没有特殊的数学名称。"
   ]
  },
  {
   "cell_type": "markdown",
   "id": "6960852c",
   "metadata": {},
   "source": [
    "##### arange()创建一个行向量x。\n",
    "这个行向量包含从0开始的前12个整数，它们被默认创建为浮点数。\n",
    "张量中的每个值都称为张量的元素（element）"
   ]
  },
  {
   "cell_type": "code",
   "execution_count": 6,
   "id": "119bcae0",
   "metadata": {},
   "outputs": [
    {
     "data": {
      "text/plain": [
       "tensor([ 0,  1,  2,  3,  4,  5,  6,  7,  8,  9, 10, 11])"
      ]
     },
     "execution_count": 6,
     "metadata": {},
     "output_type": "execute_result"
    }
   ],
   "source": [
    "x = torch.arange(12)\n",
    "x"
   ]
  },
  {
   "cell_type": "markdown",
   "id": "e20d3d60",
   "metadata": {},
   "source": []
  },
  {
   "cell_type": "code",
   "execution_count": 7,
   "id": "65f37b36",
   "metadata": {},
   "outputs": [
    {
     "data": {
      "text/plain": [
       "torch.Size([12])"
      ]
     },
     "execution_count": 7,
     "metadata": {},
     "output_type": "execute_result"
    }
   ],
   "source": [
    "x.shape"
   ]
  },
  {
   "cell_type": "markdown",
   "id": "c9a7e845",
   "metadata": {},
   "source": [
    "##### numel()检查其size"
   ]
  },
  {
   "cell_type": "code",
   "execution_count": 8,
   "id": "8953e14e",
   "metadata": {},
   "outputs": [
    {
     "data": {
      "text/plain": [
       "12"
      ]
     },
     "execution_count": 8,
     "metadata": {},
     "output_type": "execute_result"
    }
   ],
   "source": [
    "x.numel()"
   ]
  },
  {
   "cell_type": "markdown",
   "id": "0417cb0d",
   "metadata": {},
   "source": [
    "##### reshape()改变张量的形状，从一维到多维"
   ]
  },
  {
   "cell_type": "code",
   "execution_count": 9,
   "id": "9e5bb275",
   "metadata": {},
   "outputs": [
    {
     "data": {
      "text/plain": [
       "tensor([[ 0,  1,  2,  3],\n",
       "        [ 4,  5,  6,  7],\n",
       "        [ 8,  9, 10, 11]])"
      ]
     },
     "execution_count": 9,
     "metadata": {},
     "output_type": "execute_result"
    }
   ],
   "source": [
    "X = x.reshape(3,4)\n",
    "X"
   ]
  },
  {
   "cell_type": "markdown",
   "id": "0a12f9ea",
   "metadata": {},
   "source": [
    "##### zeros()创建全为0的张量"
   ]
  },
  {
   "cell_type": "code",
   "execution_count": 12,
   "id": "89f035cc",
   "metadata": {},
   "outputs": [
    {
     "data": {
      "text/plain": [
       "tensor([[[0., 0., 0., 0.],\n",
       "         [0., 0., 0., 0.],\n",
       "         [0., 0., 0., 0.]],\n",
       "\n",
       "        [[0., 0., 0., 0.],\n",
       "         [0., 0., 0., 0.],\n",
       "         [0., 0., 0., 0.]]])"
      ]
     },
     "execution_count": 12,
     "metadata": {},
     "output_type": "execute_result"
    }
   ],
   "source": [
    "tmp = torch.zeros((2,3,4)) #torch.zeros(2，3，4) \n",
    "tmp"
   ]
  },
  {
   "cell_type": "markdown",
   "id": "1e587f17",
   "metadata": {},
   "source": [
    "##### ones()创建全为1的张量"
   ]
  },
  {
   "cell_type": "code",
   "execution_count": 13,
   "id": "03233078",
   "metadata": {},
   "outputs": [
    {
     "data": {
      "text/plain": [
       "tensor([[[1., 1., 1., 1.],\n",
       "         [1., 1., 1., 1.],\n",
       "         [1., 1., 1., 1.]],\n",
       "\n",
       "        [[1., 1., 1., 1.],\n",
       "         [1., 1., 1., 1.],\n",
       "         [1., 1., 1., 1.]]])"
      ]
     },
     "execution_count": 13,
     "metadata": {},
     "output_type": "execute_result"
    }
   ],
   "source": [
    "tmp = torch.ones(2,3,4)\n",
    "tmp"
   ]
  },
  {
   "cell_type": "markdown",
   "id": "42d4af59",
   "metadata": {},
   "source": [
    "##### randn()随机初始化参数，正太分布中的随机取样"
   ]
  },
  {
   "cell_type": "code",
   "execution_count": 14,
   "id": "22c1333d",
   "metadata": {},
   "outputs": [
    {
     "data": {
      "text/plain": [
       "tensor([[ 0.1359,  2.6912,  0.1483,  0.2757],\n",
       "        [-1.5193,  0.0764, -0.3120,  1.1671],\n",
       "        [-0.1382, -0.4742, -0.1910,  3.0850]])"
      ]
     },
     "execution_count": 14,
     "metadata": {},
     "output_type": "execute_result"
    }
   ],
   "source": [
    "tmp = torch.randn(3,4)\n",
    "tmp"
   ]
  },
  {
   "cell_type": "code",
   "execution_count": null,
   "id": "ef47073f",
   "metadata": {},
   "outputs": [],
   "source": []
  }
 ],
 "metadata": {
  "kernelspec": {
   "display_name": "Python [conda env:d2l] *",
   "language": "python",
   "name": "conda-env-d2l-py"
  },
  "language_info": {
   "codemirror_mode": {
    "name": "ipython",
    "version": 3
   },
   "file_extension": ".py",
   "mimetype": "text/x-python",
   "name": "python",
   "nbconvert_exporter": "python",
   "pygments_lexer": "ipython3",
   "version": "3.8.12"
  },
  "toc": {
   "base_numbering": 1,
   "nav_menu": {},
   "number_sections": false,
   "sideBar": true,
   "skip_h1_title": false,
   "title_cell": "Table of Contents",
   "title_sidebar": "Contents",
   "toc_cell": false,
   "toc_position": {
    "height": "calc(100% - 180px)",
    "left": "10px",
    "top": "150px",
    "width": "193.568px"
   },
   "toc_section_display": true,
   "toc_window_display": true
  }
 },
 "nbformat": 4,
 "nbformat_minor": 5
}

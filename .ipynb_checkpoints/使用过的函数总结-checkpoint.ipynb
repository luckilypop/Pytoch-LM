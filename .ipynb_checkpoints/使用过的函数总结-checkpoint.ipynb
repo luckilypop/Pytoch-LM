{
 "cells": [
  {
   "cell_type": "markdown",
   "id": "f04309dc",
   "metadata": {},
   "source": [
    "# 2.1 数据预处理\n",
    "## 张量\n",
    "### 创建\n",
    "- #### torch.arange()  \n",
    "创建一个行向量x\n",
    "- #### torch.zeros()\n",
    "创建全为0的张量\n",
    "- #### torch.ones()\n",
    "创建全为1的张量\n",
    "- #### torch.randn()\n",
    "随机初始化参数，正太分布中的随机取样,[0,1]\n",
    "- #### torch.tensor()\n",
    "自定义给张量赋值,几个维度就有几个[]\n",
    "- ####  torch.zeors_like()\n",
    "分配一个形状一样的全为0的张量\n",
    "\n",
    "### 一个张量的函数\n",
    "\n",
    "- #### shape\n",
    "属性来访问张量的形状 （沿每个轴的长度）\n",
    "- #### numel()\n",
    "检查其size，一直都是个标量\n",
    "- #### reshape()\n",
    "改变张量的形状，从一维到多维，不改变元素的值\n",
    "- #### sum()\n",
    "张量所有元素求和\n",
    "- #### numpy() tensor() \n",
    "张量类型切换\n",
    "- ####  item()函数或者Python内置函数\n",
    "\n",
    "### 两个张量的运算\n",
    "- #### +、-、*、/、**、exp()、<、>\n",
    "- #### cat()\n",
    "多个张量连结（concatenate）\n",
    "- #### == \n",
    "判断张量位置是否相等\n"
   ]
  },
  {
   "cell_type": "markdown",
   "id": "4a42cbc3",
   "metadata": {},
   "source": [
    "# 2.2 数据预处理\n",
    "## 数据路径处理\n",
    "- #### os.makedirs() \n",
    "创建多层目录\n",
    "- #### os.path.join() \n",
    "连接两个或更多的路径名组件\n",
    "## 数据写入和读取\n",
    "- #### 数据写入\n",
    "with open(data_file, 'w') as f:\n",
    "    f.write('NumRooms,Alley,Price\\n')  # 列名\n",
    "    f.write('NA,Pave,127500\\n')  # 每行表示一个数据样本\n",
    "- #### 数据读取\n",
    "with open(data_file, 'rb') as get_myfile: \n",
    "    data = pd.read_csv(get_myfile) \n",
    "data,type(data)\n",
    "## 数据处理\n",
    "- #### iloc()\n",
    "位置索引\n",
    "- #### fillna()\n",
    "缺失值的处理方式\n",
    "- #### get_dummies() \n",
    "实现one hot encode的方式"
   ]
  },
  {
   "cell_type": "markdown",
   "id": "b5a0bd0f",
   "metadata": {},
   "source": [
    "### 2.3\n",
    "### len()访问张量的长度\n",
    "### mean() 求平均值\n",
    "### numle() 求总数\n",
    "### sum()求和函数\n",
    "### cumsum()按行计算总和\n",
    "### dot()执行点积操作\n",
    "### np.dot 求解矩阵向量积\n",
    "### np.dot 求解矩阵向量积\n",
    "### mm()矩阵乘法\n",
    "### abs.sum()L1范数求解\n",
    "### norm()L2范数求解\n"
   ]
  },
  {
   "cell_type": "markdown",
   "id": "6f840918",
   "metadata": {},
   "source": [
    "### 3.2\n",
    "### torch.normal(0, 1, (a, b))\n",
    "创建一个张量为[a,b]维度，mean=1，var=1\n",
    "### torch.matmul() tensor的乘法\n",
    "输入可以是高维的\n",
    "### reshape((-1, 1))\n",
    "### list:列出数值\n",
    "### random.shuffle():打乱数据\n",
    "### range(start,end,step)"
   ]
  },
  {
   "cell_type": "markdown",
   "id": "57917493",
   "metadata": {},
   "source": [
    "### plot"
   ]
  },
  {
   "cell_type": "code",
   "execution_count": 1,
   "id": "18f5696c",
   "metadata": {},
   "outputs": [],
   "source": [
    "### \n",
    "#@save\n",
    "def plot(X, Y=None, xlabel=None, ylabel=None, legend=None, xlim=None,\n",
    "         ylim=None, xscale='linear', yscale='linear',\n",
    "         fmts=('-', 'm--', 'g-.', 'r:'), figsize=(3.5, 2.5), axes=None):\n",
    "    \"\"\"绘制数据点。\"\"\"\n",
    "    if legend is None:\n",
    "        legend = []\n",
    "\n",
    "    set_figsize(figsize)\n",
    "    axes = axes if axes else d2l.plt.gca()\n",
    "\n",
    "    # 如果 `X` 有一个轴，输出True\n",
    "    def has_one_axis(X):\n",
    "        return (hasattr(X, \"ndim\") and X.ndim == 1 or isinstance(X, list)\n",
    "                and not hasattr(X[0], \"__len__\"))\n",
    "\n",
    "    if has_one_axis(X):\n",
    "        X = [X]\n",
    "    if Y is None:\n",
    "        X, Y = [[]] * len(X), X\n",
    "    elif has_one_axis(Y):\n",
    "        Y = [Y]\n",
    "    if len(X) != len(Y):\n",
    "        X = X * len(Y)\n",
    "    axes.cla()\n",
    "    for x, y, fmt in zip(X, Y, fmts):\n",
    "        if len(x):\n",
    "            axes.plot(x, y, fmt)\n",
    "        else:\n",
    "            axes.plot(y, fmt)\n",
    "    set_axes(axes, xlabel, ylabel, xlim, ylim, xscale, yscale, legend)"
   ]
  },
  {
   "cell_type": "code",
   "execution_count": null,
   "id": "c956b4e6",
   "metadata": {},
   "outputs": [],
   "source": []
  }
 ],
 "metadata": {
  "hide_input": false,
  "kernelspec": {
   "display_name": "Python [conda env:lmd2l] *",
   "language": "python",
   "name": "conda-env-lmd2l-py"
  },
  "language_info": {
   "codemirror_mode": {
    "name": "ipython",
    "version": 3
   },
   "file_extension": ".py",
   "mimetype": "text/x-python",
   "name": "python",
   "nbconvert_exporter": "python",
   "pygments_lexer": "ipython3",
   "version": "3.9.7"
  },
  "latex_envs": {
   "LaTeX_envs_menu_present": true,
   "autoclose": false,
   "autocomplete": true,
   "bibliofile": "biblio.bib",
   "cite_by": "apalike",
   "current_citInitial": 1,
   "eqLabelWithNumbers": true,
   "eqNumInitial": 1,
   "hotkeys": {
    "equation": "Ctrl-E",
    "itemize": "Ctrl-I"
   },
   "labels_anchors": false,
   "latex_user_defs": false,
   "report_style_numbering": false,
   "user_envs_cfg": false
  },
  "nbTranslate": {
   "displayLangs": [
    "*"
   ],
   "hotkey": "alt-t",
   "langInMainMenu": true,
   "sourceLang": "en",
   "targetLang": "fr",
   "useGoogleTranslate": true
  },
  "toc": {
   "base_numbering": 1,
   "nav_menu": {},
   "number_sections": false,
   "sideBar": true,
   "skip_h1_title": false,
   "title_cell": "Table of Contents",
   "title_sidebar": "Contents",
   "toc_cell": false,
   "toc_position": {},
   "toc_section_display": true,
   "toc_window_display": true
  },
  "varInspector": {
   "cols": {
    "lenName": 16,
    "lenType": 16,
    "lenVar": 40
   },
   "kernels_config": {
    "python": {
     "delete_cmd_postfix": "",
     "delete_cmd_prefix": "del ",
     "library": "var_list.py",
     "varRefreshCmd": "print(var_dic_list())"
    },
    "r": {
     "delete_cmd_postfix": ") ",
     "delete_cmd_prefix": "rm(",
     "library": "var_list.r",
     "varRefreshCmd": "cat(var_dic_list()) "
    }
   },
   "types_to_exclude": [
    "module",
    "function",
    "builtin_function_or_method",
    "instance",
    "_Feature"
   ],
   "window_display": false
  }
 },
 "nbformat": 4,
 "nbformat_minor": 5
}

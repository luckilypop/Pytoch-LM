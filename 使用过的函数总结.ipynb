{
 "cells": [
  {
   "cell_type": "markdown",
   "id": "84294787",
   "metadata": {},
   "source": [
    "# 使用过的函数总结"
   ]
  },
  {
   "cell_type": "markdown",
   "id": "f04309dc",
   "metadata": {},
   "source": [
    "## 第二章\n",
    "### 2.1\n",
    "### arange()创建一个行向量x\n",
    "### shape属性来访问张量的形状 （沿每个轴的长度）\n",
    "### numel()检查其size，一直都是个标量\n",
    "### reshape()改变张量的形状，从一维到多维，不改变元素的值\n",
    "### zeros()创建全为0的张量\n",
    "### ones()创建全为1的张量\n",
    "### randn()随机初始化参数，正太分布中的随机取样,[0,1]\n",
    "### tensor()自定义给张量赋值,几个维度就有几个[]\n",
    "### cat()多个张量连结（concatenate）\n",
    "### == 判断张量位置是否相等\n",
    "### sum()张量所有元素求和\n",
    "### zeors_like()分配一个形状一样的全为0的张量\n",
    "### numpy() tensor() 类型切换\n",
    "### item()函数或者Python内置函数\n"
   ]
  },
  {
   "cell_type": "markdown",
   "id": "d892761b",
   "metadata": {},
   "source": [
    "### 2.2\n",
    "### os.makedirs() 创建多层目录\n",
    "### os.path.join() 连接两个或更多的路径名组件\n",
    "### iloc()位置索引\n",
    "### fillna()缺失值的处理方式\n",
    "### get_dummies() 实现one hot encode的方式"
   ]
  },
  {
   "cell_type": "markdown",
   "id": "b5a0bd0f",
   "metadata": {},
   "source": [
    "### 2.3\n",
    "### len()访问张量的长度\n",
    "### mean() 求平均值\n",
    "### numle() 求总数\n",
    "### sum()求和函数\n",
    "### cumsum()按行计算总和\n",
    "### dot()执行点积操作\n",
    "### np.dot 求解矩阵向量积\n",
    "### np.dot 求解矩阵向量积\n",
    "### mm()矩阵乘法\n",
    "### abs.sum()L1范数求解\n",
    "### norm()L2范数求解\n"
   ]
  },
  {
   "cell_type": "markdown",
   "id": "6f840918",
   "metadata": {},
   "source": [
    "### 3.2\n",
    "### torch.normal(0, 1, (a, b))\n",
    "创建一个张量为[a,b]维度，mean=1，var=1\n",
    "### torch.matmul() tensor的乘法\n",
    "输入可以是高维的\n",
    "### reshape((-1, 1))\n",
    "### list:列出数值\n",
    "### random.shuffle():打乱数据\n",
    "### range(start,end,step)"
   ]
  },
  {
   "cell_type": "code",
   "execution_count": null,
   "id": "18f5696c",
   "metadata": {},
   "outputs": [],
   "source": []
  }
 ],
 "metadata": {
  "hide_input": false,
  "kernelspec": {
   "display_name": "Python [conda env:d2l] *",
   "language": "python",
   "name": "conda-env-d2l-py"
  },
  "language_info": {
   "codemirror_mode": {
    "name": "ipython",
    "version": 3
   },
   "file_extension": ".py",
   "mimetype": "text/x-python",
   "name": "python",
   "nbconvert_exporter": "python",
   "pygments_lexer": "ipython3",
   "version": "3.8.12"
  },
  "latex_envs": {
   "LaTeX_envs_menu_present": true,
   "autoclose": false,
   "autocomplete": true,
   "bibliofile": "biblio.bib",
   "cite_by": "apalike",
   "current_citInitial": 1,
   "eqLabelWithNumbers": true,
   "eqNumInitial": 1,
   "hotkeys": {
    "equation": "Ctrl-E",
    "itemize": "Ctrl-I"
   },
   "labels_anchors": false,
   "latex_user_defs": false,
   "report_style_numbering": false,
   "user_envs_cfg": false
  },
  "toc": {
   "base_numbering": 1,
   "nav_menu": {},
   "number_sections": false,
   "sideBar": true,
   "skip_h1_title": false,
   "title_cell": "Table of Contents",
   "title_sidebar": "Contents",
   "toc_cell": false,
   "toc_position": {},
   "toc_section_display": true,
   "toc_window_display": false
  }
 },
 "nbformat": 4,
 "nbformat_minor": 5
}
